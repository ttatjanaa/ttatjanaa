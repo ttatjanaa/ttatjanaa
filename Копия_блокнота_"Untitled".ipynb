{
  "nbformat": 4,
  "nbformat_minor": 0,
  "metadata": {
    "colab": {
      "name": "Копия блокнота \"Untitled\"",
      "provenance": [],
      "collapsed_sections": [],
      "authorship_tag": "ABX9TyOxwRoMz6DRc3AYSpaXYq8O",
      "include_colab_link": true
    },
    "kernelspec": {
      "name": "python3",
      "display_name": "Python 3"
    },
    "language_info": {
      "name": "python"
    }
  },
  "cells": [
    {
      "cell_type": "markdown",
      "metadata": {
        "id": "view-in-github",
        "colab_type": "text"
      },
      "source": [
        "<a href=\"https://colab.research.google.com/github/ttatjanaa/ttatjanaa/blob/main/%D0%9A%D0%BE%D0%BF%D0%B8%D1%8F_%D0%B1%D0%BB%D0%BE%D0%BA%D0%BD%D0%BE%D1%82%D0%B0_%22Untitled%22.ipynb\" target=\"_parent\"><img src=\"https://colab.research.google.com/assets/colab-badge.svg\" alt=\"Open In Colab\"/></a>"
      ]
    },
    {
      "cell_type": "markdown",
      "source": [
        ""
      ],
      "metadata": {
        "id": "EicEQkGq5uh_"
      }
    },
    {
      "cell_type": "markdown",
      "source": [
        "1) Загрузите датасет с помощью функции np.genfromtxt()"
      ],
      "metadata": {
        "id": "Ku2iMi4J5yNr"
      }
    },
    {
      "cell_type": "code",
      "source": [
        "import numpy as np"
      ],
      "metadata": {
        "id": "pklbXY9i51x0"
      },
      "execution_count": null,
      "outputs": []
    },
    {
      "cell_type": "code",
      "source": [
        "url = 'https://archive.ics.uci.edu/ml/machine-learning-databases/iris/iris.data'\n",
        "iris = np.genfromtxt(url, delimiter=',', dtype='object')"
      ],
      "metadata": {
        "id": "_QAHCyAM5997"
      },
      "execution_count": null,
      "outputs": []
    },
    {
      "cell_type": "code",
      "source": [
        "iris[:100]"
      ],
      "metadata": {
        "colab": {
          "base_uri": "https://localhost:8080/"
        },
        "id": "UkPsw2cp6Ny6",
        "outputId": "666712c4-f035-40c7-c88b-1c6a75163065"
      },
      "execution_count": null,
      "outputs": [
        {
          "output_type": "execute_result",
          "data": {
            "text/plain": [
              "array([[b'5.1', b'3.5', b'1.4', b'0.2', b'Iris-setosa'],\n",
              "       [b'4.9', b'3.0', b'1.4', b'0.2', b'Iris-setosa'],\n",
              "       [b'4.7', b'3.2', b'1.3', b'0.2', b'Iris-setosa'],\n",
              "       [b'4.6', b'3.1', b'1.5', b'0.2', b'Iris-setosa'],\n",
              "       [b'5.0', b'3.6', b'1.4', b'0.2', b'Iris-setosa'],\n",
              "       [b'5.4', b'3.9', b'1.7', b'0.4', b'Iris-setosa'],\n",
              "       [b'4.6', b'3.4', b'1.4', b'0.3', b'Iris-setosa'],\n",
              "       [b'5.0', b'3.4', b'1.5', b'0.2', b'Iris-setosa'],\n",
              "       [b'4.4', b'2.9', b'1.4', b'0.2', b'Iris-setosa'],\n",
              "       [b'4.9', b'3.1', b'1.5', b'0.1', b'Iris-setosa'],\n",
              "       [b'5.4', b'3.7', b'1.5', b'0.2', b'Iris-setosa'],\n",
              "       [b'4.8', b'3.4', b'1.6', b'0.2', b'Iris-setosa'],\n",
              "       [b'4.8', b'3.0', b'1.4', b'0.1', b'Iris-setosa'],\n",
              "       [b'4.3', b'3.0', b'1.1', b'0.1', b'Iris-setosa'],\n",
              "       [b'5.8', b'4.0', b'1.2', b'0.2', b'Iris-setosa'],\n",
              "       [b'5.7', b'4.4', b'1.5', b'0.4', b'Iris-setosa'],\n",
              "       [b'5.4', b'3.9', b'1.3', b'0.4', b'Iris-setosa'],\n",
              "       [b'5.1', b'3.5', b'1.4', b'0.3', b'Iris-setosa'],\n",
              "       [b'5.7', b'3.8', b'1.7', b'0.3', b'Iris-setosa'],\n",
              "       [b'5.1', b'3.8', b'1.5', b'0.3', b'Iris-setosa'],\n",
              "       [b'5.4', b'3.4', b'1.7', b'0.2', b'Iris-setosa'],\n",
              "       [b'5.1', b'3.7', b'1.5', b'0.4', b'Iris-setosa'],\n",
              "       [b'4.6', b'3.6', b'1.0', b'0.2', b'Iris-setosa'],\n",
              "       [b'5.1', b'3.3', b'1.7', b'0.5', b'Iris-setosa'],\n",
              "       [b'4.8', b'3.4', b'1.9', b'0.2', b'Iris-setosa'],\n",
              "       [b'5.0', b'3.0', b'1.6', b'0.2', b'Iris-setosa'],\n",
              "       [b'5.0', b'3.4', b'1.6', b'0.4', b'Iris-setosa'],\n",
              "       [b'5.2', b'3.5', b'1.5', b'0.2', b'Iris-setosa'],\n",
              "       [b'5.2', b'3.4', b'1.4', b'0.2', b'Iris-setosa'],\n",
              "       [b'4.7', b'3.2', b'1.6', b'0.2', b'Iris-setosa'],\n",
              "       [b'4.8', b'3.1', b'1.6', b'0.2', b'Iris-setosa'],\n",
              "       [b'5.4', b'3.4', b'1.5', b'0.4', b'Iris-setosa'],\n",
              "       [b'5.2', b'4.1', b'1.5', b'0.1', b'Iris-setosa'],\n",
              "       [b'5.5', b'4.2', b'1.4', b'0.2', b'Iris-setosa'],\n",
              "       [b'4.9', b'3.1', b'1.5', b'0.1', b'Iris-setosa'],\n",
              "       [b'5.0', b'3.2', b'1.2', b'0.2', b'Iris-setosa'],\n",
              "       [b'5.5', b'3.5', b'1.3', b'0.2', b'Iris-setosa'],\n",
              "       [b'4.9', b'3.1', b'1.5', b'0.1', b'Iris-setosa'],\n",
              "       [b'4.4', b'3.0', b'1.3', b'0.2', b'Iris-setosa'],\n",
              "       [b'5.1', b'3.4', b'1.5', b'0.2', b'Iris-setosa'],\n",
              "       [b'5.0', b'3.5', b'1.3', b'0.3', b'Iris-setosa'],\n",
              "       [b'4.5', b'2.3', b'1.3', b'0.3', b'Iris-setosa'],\n",
              "       [b'4.4', b'3.2', b'1.3', b'0.2', b'Iris-setosa'],\n",
              "       [b'5.0', b'3.5', b'1.6', b'0.6', b'Iris-setosa'],\n",
              "       [b'5.1', b'3.8', b'1.9', b'0.4', b'Iris-setosa'],\n",
              "       [b'4.8', b'3.0', b'1.4', b'0.3', b'Iris-setosa'],\n",
              "       [b'5.1', b'3.8', b'1.6', b'0.2', b'Iris-setosa'],\n",
              "       [b'4.6', b'3.2', b'1.4', b'0.2', b'Iris-setosa'],\n",
              "       [b'5.3', b'3.7', b'1.5', b'0.2', b'Iris-setosa'],\n",
              "       [b'5.0', b'3.3', b'1.4', b'0.2', b'Iris-setosa'],\n",
              "       [b'7.0', b'3.2', b'4.7', b'1.4', b'Iris-versicolor'],\n",
              "       [b'6.4', b'3.2', b'4.5', b'1.5', b'Iris-versicolor'],\n",
              "       [b'6.9', b'3.1', b'4.9', b'1.5', b'Iris-versicolor'],\n",
              "       [b'5.5', b'2.3', b'4.0', b'1.3', b'Iris-versicolor'],\n",
              "       [b'6.5', b'2.8', b'4.6', b'1.5', b'Iris-versicolor'],\n",
              "       [b'5.7', b'2.8', b'4.5', b'1.3', b'Iris-versicolor'],\n",
              "       [b'6.3', b'3.3', b'4.7', b'1.6', b'Iris-versicolor'],\n",
              "       [b'4.9', b'2.4', b'3.3', b'1.0', b'Iris-versicolor'],\n",
              "       [b'6.6', b'2.9', b'4.6', b'1.3', b'Iris-versicolor'],\n",
              "       [b'5.2', b'2.7', b'3.9', b'1.4', b'Iris-versicolor'],\n",
              "       [b'5.0', b'2.0', b'3.5', b'1.0', b'Iris-versicolor'],\n",
              "       [b'5.9', b'3.0', b'4.2', b'1.5', b'Iris-versicolor'],\n",
              "       [b'6.0', b'2.2', b'4.0', b'1.0', b'Iris-versicolor'],\n",
              "       [b'6.1', b'2.9', b'4.7', b'1.4', b'Iris-versicolor'],\n",
              "       [b'5.6', b'2.9', b'3.6', b'1.3', b'Iris-versicolor'],\n",
              "       [b'6.7', b'3.1', b'4.4', b'1.4', b'Iris-versicolor'],\n",
              "       [b'5.6', b'3.0', b'4.5', b'1.5', b'Iris-versicolor'],\n",
              "       [b'5.8', b'2.7', b'4.1', b'1.0', b'Iris-versicolor'],\n",
              "       [b'6.2', b'2.2', b'4.5', b'1.5', b'Iris-versicolor'],\n",
              "       [b'5.6', b'2.5', b'3.9', b'1.1', b'Iris-versicolor'],\n",
              "       [b'5.9', b'3.2', b'4.8', b'1.8', b'Iris-versicolor'],\n",
              "       [b'6.1', b'2.8', b'4.0', b'1.3', b'Iris-versicolor'],\n",
              "       [b'6.3', b'2.5', b'4.9', b'1.5', b'Iris-versicolor'],\n",
              "       [b'6.1', b'2.8', b'4.7', b'1.2', b'Iris-versicolor'],\n",
              "       [b'6.4', b'2.9', b'4.3', b'1.3', b'Iris-versicolor'],\n",
              "       [b'6.6', b'3.0', b'4.4', b'1.4', b'Iris-versicolor'],\n",
              "       [b'6.8', b'2.8', b'4.8', b'1.4', b'Iris-versicolor'],\n",
              "       [b'6.7', b'3.0', b'5.0', b'1.7', b'Iris-versicolor'],\n",
              "       [b'6.0', b'2.9', b'4.5', b'1.5', b'Iris-versicolor'],\n",
              "       [b'5.7', b'2.6', b'3.5', b'1.0', b'Iris-versicolor'],\n",
              "       [b'5.5', b'2.4', b'3.8', b'1.1', b'Iris-versicolor'],\n",
              "       [b'5.5', b'2.4', b'3.7', b'1.0', b'Iris-versicolor'],\n",
              "       [b'5.8', b'2.7', b'3.9', b'1.2', b'Iris-versicolor'],\n",
              "       [b'6.0', b'2.7', b'5.1', b'1.6', b'Iris-versicolor'],\n",
              "       [b'5.4', b'3.0', b'4.5', b'1.5', b'Iris-versicolor'],\n",
              "       [b'6.0', b'3.4', b'4.5', b'1.6', b'Iris-versicolor'],\n",
              "       [b'6.7', b'3.1', b'4.7', b'1.5', b'Iris-versicolor'],\n",
              "       [b'6.3', b'2.3', b'4.4', b'1.3', b'Iris-versicolor'],\n",
              "       [b'5.6', b'3.0', b'4.1', b'1.3', b'Iris-versicolor'],\n",
              "       [b'5.5', b'2.5', b'4.0', b'1.3', b'Iris-versicolor'],\n",
              "       [b'5.5', b'2.6', b'4.4', b'1.2', b'Iris-versicolor'],\n",
              "       [b'6.1', b'3.0', b'4.6', b'1.4', b'Iris-versicolor'],\n",
              "       [b'5.8', b'2.6', b'4.0', b'1.2', b'Iris-versicolor'],\n",
              "       [b'5.0', b'2.3', b'3.3', b'1.0', b'Iris-versicolor'],\n",
              "       [b'5.6', b'2.7', b'4.2', b'1.3', b'Iris-versicolor'],\n",
              "       [b'5.7', b'3.0', b'4.2', b'1.2', b'Iris-versicolor'],\n",
              "       [b'5.7', b'2.9', b'4.2', b'1.3', b'Iris-versicolor'],\n",
              "       [b'6.2', b'2.9', b'4.3', b'1.3', b'Iris-versicolor'],\n",
              "       [b'5.1', b'2.5', b'3.0', b'1.1', b'Iris-versicolor'],\n",
              "       [b'5.7', b'2.8', b'4.1', b'1.3', b'Iris-versicolor']], dtype=object)"
            ]
          },
          "metadata": {},
          "execution_count": 29
        }
      ]
    },
    {
      "cell_type": "code",
      "source": [
        "iris.shape"
      ],
      "metadata": {
        "colab": {
          "base_uri": "https://localhost:8080/"
        },
        "id": "OEiNdUiJ6Wsk",
        "outputId": "44fabfe3-e540-4bf5-d925-e44a55fb537f"
      },
      "execution_count": null,
      "outputs": [
        {
          "output_type": "execute_result",
          "data": {
            "text/plain": [
              "(150, 5)"
            ]
          },
          "metadata": {},
          "execution_count": 30
        }
      ]
    },
    {
      "cell_type": "markdown",
      "source": [
        "2) Вычислите простейшие статистики: min, max, median, mean, 0.25-percentile, 0.75-percentile для каждого из числовых атрибутов в датасете"
      ],
      "metadata": {
        "id": "7RZTO9bp60Qv"
      }
    },
    {
      "cell_type": "code",
      "source": [
        "atr_1 = np.genfromtxt(url, delimiter=',', dtype='float', usecols=[0])\n",
        "atr_2 = np.genfromtxt(url, delimiter=',', dtype='float', usecols=[1])\n",
        "atr_3 = np.genfromtxt(url, delimiter=',', dtype='float', usecols=[2])\n",
        "atr_4 = np.genfromtxt(url, delimiter=',', dtype='float', usecols=[3])\n",
        "atr_5 = np.genfromtxt(url, delimiter=',', dtype='str', usecols=[4])"
      ],
      "metadata": {
        "id": "UUkyM5wu65go"
      },
      "execution_count": null,
      "outputs": []
    },
    {
      "cell_type": "code",
      "source": [
        "print(\"Среднее для atr_1 = \", np.mean(atr_1))\n",
        "print(\"Минимум для atr_1 = \", np.min(atr_1))\n",
        "print(\"Максимум для atr_1 = \", np.max(atr_1))\n",
        "print(\"Медиана для atr_1 = \", np.median(atr_1))\n",
        "print(\"Персентиль 0.25 для atr_1 = \", np.percentile(atr_1, 25))\n",
        "print(\"Персентиль 0.75 для atr_1 = \", np.percentile(atr_1, 75))"
      ],
      "metadata": {
        "colab": {
          "base_uri": "https://localhost:8080/"
        },
        "id": "VAV70dZI6X0g",
        "outputId": "3138cb2a-2c59-4f6f-c65c-7091f408958b"
      },
      "execution_count": null,
      "outputs": [
        {
          "output_type": "stream",
          "name": "stdout",
          "text": [
            "Среднее для atr_1 =  5.843333333333334\n",
            "Минимум для atr_1 =  4.3\n",
            "Максимум для atr_1 =  7.9\n",
            "Медиана для atr_1 =  5.8\n",
            "Персентиль 0.25 для atr_1 =  5.1\n",
            "Персентиль 0.75 для atr_1 =  6.4\n"
          ]
        }
      ]
    },
    {
      "cell_type": "code",
      "source": [
        "print(\"\\nСреднее для atr_2 = \", np.mean(atr_2))\n",
        "print(\"Минимум для atr_2 = \", np.min(atr_2))\n",
        "print(\"Максимум для atr_2 = \", np.max(atr_2))\n",
        "print(\"Медиана для atr_2 = \", np.median(atr_2))\n",
        "print(\"Персентиль 0.25 для atr_2 = \", np.percentile(atr_2, 25))\n",
        "print(\"Персентиль 0.75 для atr_2 = \", np.percentile(atr_2, 75))"
      ],
      "metadata": {
        "colab": {
          "base_uri": "https://localhost:8080/"
        },
        "id": "uZ4j2cCE7DX1",
        "outputId": "bcab5fbb-1d4b-4ccf-aeae-3940f1320430"
      },
      "execution_count": null,
      "outputs": [
        {
          "output_type": "stream",
          "name": "stdout",
          "text": [
            "\n",
            "Среднее для atr_2 =  3.0540000000000003\n",
            "Минимум для atr_2 =  2.0\n",
            "Максимум для atr_2 =  4.4\n",
            "Медиана для atr_2 =  3.0\n",
            "Персентиль 0.25 для atr_2 =  2.8\n",
            "Персентиль 0.75 для atr_2 =  3.3\n"
          ]
        }
      ]
    },
    {
      "cell_type": "code",
      "source": [
        "print(\"\\nСреднее для atr_3 = \", np.mean(atr_3))\n",
        "print(\"Минимум для atr_3 = \", np.min(atr_3))\n",
        "print(\"Максимум для atr_3 = \", np.max(atr_3))\n",
        "print(\"Медиана для atr_3 = \", np.median(atr_3))\n",
        "print(\"Персентиль 0.25 для atr_3 = \", np.percentile(atr_3, 25))\n",
        "print(\"Персентиль 0.75 для atr_3 = \", np.percentile(atr_3, 75))"
      ],
      "metadata": {
        "colab": {
          "base_uri": "https://localhost:8080/"
        },
        "id": "9PshNt_R7JX5",
        "outputId": "b45cbb77-19d1-45f7-ce32-006542d40bf8"
      },
      "execution_count": null,
      "outputs": [
        {
          "output_type": "stream",
          "name": "stdout",
          "text": [
            "\n",
            "Среднее для atr_3 =  3.758666666666666\n",
            "Минимум для atr_3 =  1.0\n",
            "Максимум для atr_3 =  6.9\n",
            "Медиана для atr_3 =  4.35\n",
            "Персентиль 0.25 для atr_3 =  1.6\n",
            "Персентиль 0.75 для atr_3 =  5.1\n"
          ]
        }
      ]
    },
    {
      "cell_type": "code",
      "source": [
        "print(\"\\nСреднее для atr_4 = \", np.mean(atr_4))\n",
        "print(\"Минимум для atr_4 = \", np.min(atr_4))\n",
        "print(\"Максимум для atr_4 = \", np.max(atr_4))\n",
        "print(\"Медиана для atr_4 = \", np.median(atr_4))\n",
        "print(\"Персентиль 0.25 для atr_4 = \", np.percentile(atr_4, 25))\n",
        "print(\"Персентиль 0.75 для atr_4 = \", np.percentile(atr_4, 75))"
      ],
      "metadata": {
        "colab": {
          "base_uri": "https://localhost:8080/"
        },
        "id": "2EJbqb4h7MnT",
        "outputId": "20c70e65-4f3f-4a4e-bb34-e971e4fb19d3"
      },
      "execution_count": null,
      "outputs": [
        {
          "output_type": "stream",
          "name": "stdout",
          "text": [
            "\n",
            "Среднее для atr_4 =  1.1986666666666668\n",
            "Минимум для atr_4 =  0.1\n",
            "Максимум для atr_4 =  2.5\n",
            "Медиана для atr_4 =  1.3\n",
            "Персентиль 0.25 для atr_4 =  0.3\n",
            "Персентиль 0.75 для atr_4 =  1.8\n"
          ]
        }
      ]
    },
    {
      "cell_type": "markdown",
      "source": [
        "Реализация через цикл для 1-4 атрибута\n",
        "\n",
        "2.1 Определим числовые атрибуты"
      ],
      "metadata": {
        "id": "a3r1Wn0l8et5"
      }
    },
    {
      "cell_type": "code",
      "source": [
        "number_atrs = []\n",
        "for i in range(4):\n",
        "    number_atrs.append(np.genfromtxt(url, delimiter=',', dtype='float', usecols=[i]))"
      ],
      "metadata": {
        "id": "yefLl7CiVMTr"
      },
      "execution_count": null,
      "outputs": []
    },
    {
      "cell_type": "code",
      "source": [
        "number_atrs"
      ],
      "metadata": {
        "colab": {
          "base_uri": "https://localhost:8080/"
        },
        "id": "U56thHQdbGGY",
        "outputId": "4d36c32b-4547-4eff-b715-ba2ea1fa14ee"
      },
      "execution_count": null,
      "outputs": [
        {
          "output_type": "execute_result",
          "data": {
            "text/plain": [
              "[array([5.1, 4.9, 4.7, 4.6, 5. , 5.4, 4.6, 5. , 4.4, 4.9, 5.4, 4.8, 4.8,\n",
              "        4.3, 5.8, 5.7, 5.4, 5.1, 5.7, 5.1, 5.4, 5.1, 4.6, 5.1, 4.8, 5. ,\n",
              "        5. , 5.2, 5.2, 4.7, 4.8, 5.4, 5.2, 5.5, 4.9, 5. , 5.5, 4.9, 4.4,\n",
              "        5.1, 5. , 4.5, 4.4, 5. , 5.1, 4.8, 5.1, 4.6, 5.3, 5. , 7. , 6.4,\n",
              "        6.9, 5.5, 6.5, 5.7, 6.3, 4.9, 6.6, 5.2, 5. , 5.9, 6. , 6.1, 5.6,\n",
              "        6.7, 5.6, 5.8, 6.2, 5.6, 5.9, 6.1, 6.3, 6.1, 6.4, 6.6, 6.8, 6.7,\n",
              "        6. , 5.7, 5.5, 5.5, 5.8, 6. , 5.4, 6. , 6.7, 6.3, 5.6, 5.5, 5.5,\n",
              "        6.1, 5.8, 5. , 5.6, 5.7, 5.7, 6.2, 5.1, 5.7, 6.3, 5.8, 7.1, 6.3,\n",
              "        6.5, 7.6, 4.9, 7.3, 6.7, 7.2, 6.5, 6.4, 6.8, 5.7, 5.8, 6.4, 6.5,\n",
              "        7.7, 7.7, 6. , 6.9, 5.6, 7.7, 6.3, 6.7, 7.2, 6.2, 6.1, 6.4, 7.2,\n",
              "        7.4, 7.9, 6.4, 6.3, 6.1, 7.7, 6.3, 6.4, 6. , 6.9, 6.7, 6.9, 5.8,\n",
              "        6.8, 6.7, 6.7, 6.3, 6.5, 6.2, 5.9]),\n",
              " array([3.5, 3. , 3.2, 3.1, 3.6, 3.9, 3.4, 3.4, 2.9, 3.1, 3.7, 3.4, 3. ,\n",
              "        3. , 4. , 4.4, 3.9, 3.5, 3.8, 3.8, 3.4, 3.7, 3.6, 3.3, 3.4, 3. ,\n",
              "        3.4, 3.5, 3.4, 3.2, 3.1, 3.4, 4.1, 4.2, 3.1, 3.2, 3.5, 3.1, 3. ,\n",
              "        3.4, 3.5, 2.3, 3.2, 3.5, 3.8, 3. , 3.8, 3.2, 3.7, 3.3, 3.2, 3.2,\n",
              "        3.1, 2.3, 2.8, 2.8, 3.3, 2.4, 2.9, 2.7, 2. , 3. , 2.2, 2.9, 2.9,\n",
              "        3.1, 3. , 2.7, 2.2, 2.5, 3.2, 2.8, 2.5, 2.8, 2.9, 3. , 2.8, 3. ,\n",
              "        2.9, 2.6, 2.4, 2.4, 2.7, 2.7, 3. , 3.4, 3.1, 2.3, 3. , 2.5, 2.6,\n",
              "        3. , 2.6, 2.3, 2.7, 3. , 2.9, 2.9, 2.5, 2.8, 3.3, 2.7, 3. , 2.9,\n",
              "        3. , 3. , 2.5, 2.9, 2.5, 3.6, 3.2, 2.7, 3. , 2.5, 2.8, 3.2, 3. ,\n",
              "        3.8, 2.6, 2.2, 3.2, 2.8, 2.8, 2.7, 3.3, 3.2, 2.8, 3. , 2.8, 3. ,\n",
              "        2.8, 3.8, 2.8, 2.8, 2.6, 3. , 3.4, 3.1, 3. , 3.1, 3.1, 3.1, 2.7,\n",
              "        3.2, 3.3, 3. , 2.5, 3. , 3.4, 3. ]),\n",
              " array([1.4, 1.4, 1.3, 1.5, 1.4, 1.7, 1.4, 1.5, 1.4, 1.5, 1.5, 1.6, 1.4,\n",
              "        1.1, 1.2, 1.5, 1.3, 1.4, 1.7, 1.5, 1.7, 1.5, 1. , 1.7, 1.9, 1.6,\n",
              "        1.6, 1.5, 1.4, 1.6, 1.6, 1.5, 1.5, 1.4, 1.5, 1.2, 1.3, 1.5, 1.3,\n",
              "        1.5, 1.3, 1.3, 1.3, 1.6, 1.9, 1.4, 1.6, 1.4, 1.5, 1.4, 4.7, 4.5,\n",
              "        4.9, 4. , 4.6, 4.5, 4.7, 3.3, 4.6, 3.9, 3.5, 4.2, 4. , 4.7, 3.6,\n",
              "        4.4, 4.5, 4.1, 4.5, 3.9, 4.8, 4. , 4.9, 4.7, 4.3, 4.4, 4.8, 5. ,\n",
              "        4.5, 3.5, 3.8, 3.7, 3.9, 5.1, 4.5, 4.5, 4.7, 4.4, 4.1, 4. , 4.4,\n",
              "        4.6, 4. , 3.3, 4.2, 4.2, 4.2, 4.3, 3. , 4.1, 6. , 5.1, 5.9, 5.6,\n",
              "        5.8, 6.6, 4.5, 6.3, 5.8, 6.1, 5.1, 5.3, 5.5, 5. , 5.1, 5.3, 5.5,\n",
              "        6.7, 6.9, 5. , 5.7, 4.9, 6.7, 4.9, 5.7, 6. , 4.8, 4.9, 5.6, 5.8,\n",
              "        6.1, 6.4, 5.6, 5.1, 5.6, 6.1, 5.6, 5.5, 4.8, 5.4, 5.6, 5.1, 5.1,\n",
              "        5.9, 5.7, 5.2, 5. , 5.2, 5.4, 5.1]),\n",
              " array([0.2, 0.2, 0.2, 0.2, 0.2, 0.4, 0.3, 0.2, 0.2, 0.1, 0.2, 0.2, 0.1,\n",
              "        0.1, 0.2, 0.4, 0.4, 0.3, 0.3, 0.3, 0.2, 0.4, 0.2, 0.5, 0.2, 0.2,\n",
              "        0.4, 0.2, 0.2, 0.2, 0.2, 0.4, 0.1, 0.2, 0.1, 0.2, 0.2, 0.1, 0.2,\n",
              "        0.2, 0.3, 0.3, 0.2, 0.6, 0.4, 0.3, 0.2, 0.2, 0.2, 0.2, 1.4, 1.5,\n",
              "        1.5, 1.3, 1.5, 1.3, 1.6, 1. , 1.3, 1.4, 1. , 1.5, 1. , 1.4, 1.3,\n",
              "        1.4, 1.5, 1. , 1.5, 1.1, 1.8, 1.3, 1.5, 1.2, 1.3, 1.4, 1.4, 1.7,\n",
              "        1.5, 1. , 1.1, 1. , 1.2, 1.6, 1.5, 1.6, 1.5, 1.3, 1.3, 1.3, 1.2,\n",
              "        1.4, 1.2, 1. , 1.3, 1.2, 1.3, 1.3, 1.1, 1.3, 2.5, 1.9, 2.1, 1.8,\n",
              "        2.2, 2.1, 1.7, 1.8, 1.8, 2.5, 2. , 1.9, 2.1, 2. , 2.4, 2.3, 1.8,\n",
              "        2.2, 2.3, 1.5, 2.3, 2. , 2. , 1.8, 2.1, 1.8, 1.8, 1.8, 2.1, 1.6,\n",
              "        1.9, 2. , 2.2, 1.5, 1.4, 2.3, 2.4, 1.8, 1.8, 2.1, 2.4, 2.3, 1.9,\n",
              "        2.3, 2.5, 2.3, 1.9, 2. , 2.3, 1.8])]"
            ]
          },
          "metadata": {},
          "execution_count": 33
        }
      ]
    },
    {
      "cell_type": "code",
      "source": [
        "number_atrs[0]"
      ],
      "metadata": {
        "colab": {
          "base_uri": "https://localhost:8080/"
        },
        "id": "fxgl5EiMVjy1",
        "outputId": "0528703e-b5e1-47d8-c9d0-96db14dc223e"
      },
      "execution_count": null,
      "outputs": [
        {
          "output_type": "execute_result",
          "data": {
            "text/plain": [
              "array([5.1, 4.9, 4.7, 4.6, 5. , 5.4, 4.6, 5. , 4.4, 4.9, 5.4, 4.8, 4.8,\n",
              "       4.3, 5.8, 5.7, 5.4, 5.1, 5.7, 5.1, 5.4, 5.1, 4.6, 5.1, 4.8, 5. ,\n",
              "       5. , 5.2, 5.2, 4.7, 4.8, 5.4, 5.2, 5.5, 4.9, 5. , 5.5, 4.9, 4.4,\n",
              "       5.1, 5. , 4.5, 4.4, 5. , 5.1, 4.8, 5.1, 4.6, 5.3, 5. , 7. , 6.4,\n",
              "       6.9, 5.5, 6.5, 5.7, 6.3, 4.9, 6.6, 5.2, 5. , 5.9, 6. , 6.1, 5.6,\n",
              "       6.7, 5.6, 5.8, 6.2, 5.6, 5.9, 6.1, 6.3, 6.1, 6.4, 6.6, 6.8, 6.7,\n",
              "       6. , 5.7, 5.5, 5.5, 5.8, 6. , 5.4, 6. , 6.7, 6.3, 5.6, 5.5, 5.5,\n",
              "       6.1, 5.8, 5. , 5.6, 5.7, 5.7, 6.2, 5.1, 5.7, 6.3, 5.8, 7.1, 6.3,\n",
              "       6.5, 7.6, 4.9, 7.3, 6.7, 7.2, 6.5, 6.4, 6.8, 5.7, 5.8, 6.4, 6.5,\n",
              "       7.7, 7.7, 6. , 6.9, 5.6, 7.7, 6.3, 6.7, 7.2, 6.2, 6.1, 6.4, 7.2,\n",
              "       7.4, 7.9, 6.4, 6.3, 6.1, 7.7, 6.3, 6.4, 6. , 6.9, 6.7, 6.9, 5.8,\n",
              "       6.8, 6.7, 6.7, 6.3, 6.5, 6.2, 5.9])"
            ]
          },
          "metadata": {},
          "execution_count": 34
        }
      ]
    },
    {
      "cell_type": "code",
      "source": [
        "len(number_atrs)"
      ],
      "metadata": {
        "colab": {
          "base_uri": "https://localhost:8080/"
        },
        "id": "SDfKXo9QcKVM",
        "outputId": "cfc2b28b-9c6a-4010-ada0-739047ce5771"
      },
      "execution_count": null,
      "outputs": [
        {
          "output_type": "execute_result",
          "data": {
            "text/plain": [
              "4"
            ]
          },
          "metadata": {},
          "execution_count": 35
        }
      ]
    },
    {
      "cell_type": "code",
      "source": [
        "a = 1\n",
        "print(f'Hello! {a}')"
      ],
      "metadata": {
        "colab": {
          "base_uri": "https://localhost:8080/"
        },
        "id": "dDpmcDHugDnA",
        "outputId": "ff64a8e9-9313-4ab5-ecab-e9b9248c3ac3"
      },
      "execution_count": null,
      "outputs": [
        {
          "output_type": "stream",
          "name": "stdout",
          "text": [
            "Hello! 1\n"
          ]
        }
      ]
    },
    {
      "cell_type": "markdown",
      "source": [
        "2.2 Определим для 1-4 атрибута статистические показатели"
      ],
      "metadata": {
        "id": "EwyzpkJ0gLLC"
      }
    },
    {
      "cell_type": "code",
      "source": [
        "for i in range(len(number_atrs)):\n",
        "    print(f'Среднее для атрибута {i} = ', np.mean(number_atrs[i]))\n",
        "    print(f'Минимум для атрибута {i} = ', np.min(number_atrs[i]))\n",
        "    print(f'Максимум для атрибута {i} = ', np.max(number_atrs[i]))\n",
        "    print(f'Медиана для атрибута {i} = ', np.median(number_atrs[i]))\n",
        "    print(f'Персентиль 0.25 для атрибута {i} = ', np.percentile(number_atrs[i], 25))\n",
        "    print(f'Персентиль 0.75 для атрибута {i} = ', np.percentile(number_atrs[i], 75))\n",
        "    print('\\n')"
      ],
      "metadata": {
        "colab": {
          "base_uri": "https://localhost:8080/"
        },
        "id": "0BFmIkyEgOdg",
        "outputId": "d88caa29-265f-4777-f33b-7eabc9237d31"
      },
      "execution_count": null,
      "outputs": [
        {
          "output_type": "stream",
          "name": "stdout",
          "text": [
            "Среднее для атрибута 0 =  5.843333333333334\n",
            "Минимум для атрибута 0 =  4.3\n",
            "Максимум для атрибута 0 =  7.9\n",
            "Медиана для атрибута 0 =  5.8\n",
            "Персентиль 0.25 для атрибута 0 =  5.1\n",
            "Персентиль 0.75 для атрибута 0 =  6.4\n",
            "\n",
            "\n",
            "Среднее для атрибута 1 =  3.0540000000000003\n",
            "Минимум для атрибута 1 =  2.0\n",
            "Максимум для атрибута 1 =  4.4\n",
            "Медиана для атрибута 1 =  3.0\n",
            "Персентиль 0.25 для атрибута 1 =  2.8\n",
            "Персентиль 0.75 для атрибута 1 =  3.3\n",
            "\n",
            "\n",
            "Среднее для атрибута 2 =  3.758666666666666\n",
            "Минимум для атрибута 2 =  1.0\n",
            "Максимум для атрибута 2 =  6.9\n",
            "Медиана для атрибута 2 =  4.35\n",
            "Персентиль 0.25 для атрибута 2 =  1.6\n",
            "Персентиль 0.75 для атрибута 2 =  5.1\n",
            "\n",
            "\n",
            "Среднее для атрибута 3 =  1.1986666666666668\n",
            "Минимум для атрибута 3 =  0.1\n",
            "Максимум для атрибута 3 =  2.5\n",
            "Медиана для атрибута 3 =  1.3\n",
            "Персентиль 0.25 для атрибута 3 =  0.3\n",
            "Персентиль 0.75 для атрибута 3 =  1.8\n",
            "\n",
            "\n"
          ]
        }
      ]
    },
    {
      "cell_type": "markdown",
      "source": [
        "3) Постройте гистограмму для каждого из числовых атрибутов в датасете"
      ],
      "metadata": {
        "id": "ZcAhbgEsfNYv"
      }
    },
    {
      "cell_type": "code",
      "source": [
        "import matplotlib.pyplot as plt"
      ],
      "metadata": {
        "id": "KLNTfwRXfRT_"
      },
      "execution_count": null,
      "outputs": []
    },
    {
      "cell_type": "code",
      "source": [
        "plt.hist(number_atrs[3])"
      ],
      "metadata": {
        "colab": {
          "base_uri": "https://localhost:8080/",
          "height": 317
        },
        "id": "CCWSDDF1fYCq",
        "outputId": "a957d70c-934a-425c-cbcf-170cbf55428e"
      },
      "execution_count": null,
      "outputs": [
        {
          "output_type": "execute_result",
          "data": {
            "text/plain": [
              "(array([41.,  8.,  1.,  7.,  8., 33.,  6., 23.,  9., 14.]),\n",
              " array([0.1 , 0.34, 0.58, 0.82, 1.06, 1.3 , 1.54, 1.78, 2.02, 2.26, 2.5 ]),\n",
              " <a list of 10 Patch objects>)"
            ]
          },
          "metadata": {},
          "execution_count": 39
        },
        {
          "output_type": "display_data",
          "data": {
            "image/png": "[encoded data removed]",
            "text/plain": [
              "<Figure size 432x288 with 1 Axes>"
            ]
          },
          "metadata": {
            "needs_background": "light"
          }
        }
      ]
    },
    {
      "cell_type": "code",
      "source": [
        "#Вывод для каждого графика отдельно\n",
        "plt.hist(atr_1)\n",
        "plt.title('Гистограмма для атрибута atr_1')\n",
        "plt.show()\n",
        "\n",
        "plt.hist(atr_2)\n",
        "plt.title('Гистограмма для атрибута atr_2')\n",
        "plt.show()\n",
        "\n",
        "plt.hist(atr_3)\n",
        "plt.title('Гистограмма для атрибута atr_3')\n",
        "plt.show()\n",
        "\n",
        "plt.hist(atr_4)\n",
        "plt.title('Гистограмма для атрибута atr_4')\n",
        "plt.show()"
      ],
      "metadata": {
        "colab": {
          "base_uri": "https://localhost:8080/",
          "height": 1000
        },
        "id": "pDXtZ4kAgkkv",
        "outputId": "172ce14a-6038-4071-9967-c2d7e574d611"
      },
      "execution_count": null,
      "outputs": [
        {
          "output_type": "display_data",
          "data": {
            "image/png": "[encoded data removed]",
            "text/plain": [
              "<Figure size 432x288 with 1 Axes>"
            ]
          },
          "metadata": {
            "needs_background": "light"
          }
        },
        {
          "output_type": "display_data",
          "data": {
            "image/png": "[encoded data removed]",
            "text/plain": [
              "<Figure size 432x288 with 1 Axes>"
            ]
          },
          "metadata": {
            "needs_background": "light"
          }
        },
        {
          "output_type": "display_data",
          "data": {
            "image/png": "[encoded data removed]",
            "text/plain": [
              "<Figure size 432x288 with 1 Axes>"
            ]
          },
          "metadata": {
            "needs_background": "light"
          }
        },
        {
          "output_type": "display_data",
          "data": {
            "image/png": "[encoded data removed]",
            "text/plain": [
              "<Figure size 432x288 with 1 Axes>"
            ]
          },
          "metadata": {
            "needs_background": "light"
          }
        }
      ]
    },
    {
      "cell_type": "code",
      "source": [
        "#Вывод графиков на одном полотне\n",
        "fig, ((ax1, ax2), (ax3, ax4)) = plt.subplots(nrows=2, ncols=2)\n",
        "\n",
        "ax1.hist(atr_1)\n",
        "ax1.set_title('Гистограмма для atr_1')\n",
        "\n",
        "ax2.hist(atr_2)\n",
        "ax2.set_title('Гистограмма для atr_2')\n",
        "\n",
        "ax3.hist(atr_3)\n",
        "ax3.set_title('Гистограмма для atr_3')\n",
        "\n",
        "ax4.hist(atr_4)\n",
        "ax4.set_title('Гистограмма для atr_4')\n",
        "\n",
        "fig.tight_layout()\n",
        "plt.show()"
      ],
      "metadata": {
        "colab": {
          "base_uri": "https://localhost:8080/",
          "height": 297
        },
        "id": "hwavf4ffg3f0",
        "outputId": "13bb2a19-c082-485b-a983-6e1bacadd391"
      },
      "execution_count": null,
      "outputs": [
        {
          "output_type": "display_data",
          "data": {
            "image/png": "[encoded data removed]",
            "text/plain": [
              "<Figure size 432x288 with 4 Axes>"
            ]
          },
          "metadata": {
            "needs_background": "light"
          }
        }
      ]
    },
    {
      "cell_type": "markdown",
      "source": [
        "3.1 Реализация через цикл"
      ],
      "metadata": {
        "id": "atmbr12AhEMZ"
      }
    },
    {
      "cell_type": "code",
      "source": [
        "#данный метод действует для каждой гистрограммы, при отключении которого полотно графика будет единым\n",
        "for i in range(len(number_atrs)):\n",
        "    plt.hist(number_atrs[i])\n",
        "    plt.title(f'Гистограмма для атрибута {i}')\n",
        "    plt.show()"
      ],
      "metadata": {
        "colab": {
          "base_uri": "https://localhost:8080/",
          "height": 1000
        },
        "id": "AuHeykcohHGf",
        "outputId": "960ecb55-bea0-4959-c5a9-3ba88d6728ef"
      },
      "execution_count": null,
      "outputs": [
        {
          "output_type": "display_data",
          "data": {
            "image/png": "[encoded data removed]",
            "text/plain": [
              "<Figure size 432x288 with 1 Axes>"
            ]
          },
          "metadata": {
            "needs_background": "light"
          }
        },
        {
          "output_type": "display_data",
          "data": {
            "image/png": "[encoded data removed]",
            "text/plain": [
              "<Figure size 432x288 with 1 Axes>"
            ]
          },
          "metadata": {
            "needs_background": "light"
          }
        },
        {
          "output_type": "display_data",
          "data": {
            "image/png": "[encoded data removed]",
            "text/plain": [
              "<Figure size 432x288 with 1 Axes>"
            ]
          },
          "metadata": {
            "needs_background": "light"
          }
        },
        {
          "output_type": "display_data",
          "data": {
            "image/png": "[encoded data removed]",
            "text/plain": [
              "<Figure size 432x288 with 1 Axes>"
            ]
          },
          "metadata": {
            "needs_background": "light"
          }
        }
      ]
    },
    {
      "cell_type": "markdown",
      "source": [
        "4) Сгруппируйте датасет по категории (последний столбец датасета) и повторите шаги 2 и 3 для групп."
      ],
      "metadata": {
        "id": "y082QAiMhTn_"
      }
    },
    {
      "cell_type": "code",
      "source": [
        "#Значения из последнего столбца\n",
        "atr_5"
      ],
      "metadata": {
        "colab": {
          "base_uri": "https://localhost:8080/"
        },
        "id": "RQ7hK87Fha2y",
        "outputId": "6c5f90e2-7a42-4e25-de65-bcb45a486e4d"
      },
      "execution_count": null,
      "outputs": [
        {
          "output_type": "execute_result",
          "data": {
            "text/plain": [
              "array(['Iris-setosa', 'Iris-setosa', 'Iris-setosa', 'Iris-setosa',\n",
              "       'Iris-setosa', 'Iris-setosa', 'Iris-setosa', 'Iris-setosa',\n",
              "       'Iris-setosa', 'Iris-setosa', 'Iris-setosa', 'Iris-setosa',\n",
              "       'Iris-setosa', 'Iris-setosa', 'Iris-setosa', 'Iris-setosa',\n",
              "       'Iris-setosa', 'Iris-setosa', 'Iris-setosa', 'Iris-setosa',\n",
              "       'Iris-setosa', 'Iris-setosa', 'Iris-setosa', 'Iris-setosa',\n",
              "       'Iris-setosa', 'Iris-setosa', 'Iris-setosa', 'Iris-setosa',\n",
              "       'Iris-setosa', 'Iris-setosa', 'Iris-setosa', 'Iris-setosa',\n",
              "       'Iris-setosa', 'Iris-setosa', 'Iris-setosa', 'Iris-setosa',\n",
              "       'Iris-setosa', 'Iris-setosa', 'Iris-setosa', 'Iris-setosa',\n",
              "       'Iris-setosa', 'Iris-setosa', 'Iris-setosa', 'Iris-setosa',\n",
              "       'Iris-setosa', 'Iris-setosa', 'Iris-setosa', 'Iris-setosa',\n",
              "       'Iris-setosa', 'Iris-setosa', 'Iris-versicolor', 'Iris-versicolor',\n",
              "       'Iris-versicolor', 'Iris-versicolor', 'Iris-versicolor',\n",
              "       'Iris-versicolor', 'Iris-versicolor', 'Iris-versicolor',\n",
              "       'Iris-versicolor', 'Iris-versicolor', 'Iris-versicolor',\n",
              "       'Iris-versicolor', 'Iris-versicolor', 'Iris-versicolor',\n",
              "       'Iris-versicolor', 'Iris-versicolor', 'Iris-versicolor',\n",
              "       'Iris-versicolor', 'Iris-versicolor', 'Iris-versicolor',\n",
              "       'Iris-versicolor', 'Iris-versicolor', 'Iris-versicolor',\n",
              "       'Iris-versicolor', 'Iris-versicolor', 'Iris-versicolor',\n",
              "       'Iris-versicolor', 'Iris-versicolor', 'Iris-versicolor',\n",
              "       'Iris-versicolor', 'Iris-versicolor', 'Iris-versicolor',\n",
              "       'Iris-versicolor', 'Iris-versicolor', 'Iris-versicolor',\n",
              "       'Iris-versicolor', 'Iris-versicolor', 'Iris-versicolor',\n",
              "       'Iris-versicolor', 'Iris-versicolor', 'Iris-versicolor',\n",
              "       'Iris-versicolor', 'Iris-versicolor', 'Iris-versicolor',\n",
              "       'Iris-versicolor', 'Iris-versicolor', 'Iris-versicolor',\n",
              "       'Iris-versicolor', 'Iris-versicolor', 'Iris-versicolor',\n",
              "       'Iris-virginica', 'Iris-virginica', 'Iris-virginica',\n",
              "       'Iris-virginica', 'Iris-virginica', 'Iris-virginica',\n",
              "       'Iris-virginica', 'Iris-virginica', 'Iris-virginica',\n",
              "       'Iris-virginica', 'Iris-virginica', 'Iris-virginica',\n",
              "       'Iris-virginica', 'Iris-virginica', 'Iris-virginica',\n",
              "       'Iris-virginica', 'Iris-virginica', 'Iris-virginica',\n",
              "       'Iris-virginica', 'Iris-virginica', 'Iris-virginica',\n",
              "       'Iris-virginica', 'Iris-virginica', 'Iris-virginica',\n",
              "       'Iris-virginica', 'Iris-virginica', 'Iris-virginica',\n",
              "       'Iris-virginica', 'Iris-virginica', 'Iris-virginica',\n",
              "       'Iris-virginica', 'Iris-virginica', 'Iris-virginica',\n",
              "       'Iris-virginica', 'Iris-virginica', 'Iris-virginica',\n",
              "       'Iris-virginica', 'Iris-virginica', 'Iris-virginica',\n",
              "       'Iris-virginica', 'Iris-virginica', 'Iris-virginica',\n",
              "       'Iris-virginica', 'Iris-virginica', 'Iris-virginica',\n",
              "       'Iris-virginica', 'Iris-virginica', 'Iris-virginica',\n",
              "       'Iris-virginica', 'Iris-virginica'], dtype='<U15')"
            ]
          },
          "metadata": {},
          "execution_count": 43
        }
      ]
    },
    {
      "cell_type": "code",
      "source": [
        "#Уникальные значения групп - будет 3 группы\n",
        "np.unique(atr_5)"
      ],
      "metadata": {
        "colab": {
          "base_uri": "https://localhost:8080/"
        },
        "id": "0aXg64m6hnNb",
        "outputId": "920c39d0-e153-45bc-d8b6-abdec15b2cc9"
      },
      "execution_count": null,
      "outputs": [
        {
          "output_type": "execute_result",
          "data": {
            "text/plain": [
              "array(['Iris-setosa', 'Iris-versicolor', 'Iris-virginica'], dtype='<U15')"
            ]
          },
          "metadata": {},
          "execution_count": 44
        }
      ]
    },
    {
      "cell_type": "code",
      "source": [
        "atr_1"
      ],
      "metadata": {
        "colab": {
          "base_uri": "https://localhost:8080/"
        },
        "id": "MAwUcH9NhrJF",
        "outputId": "1ef18ead-3c24-4920-d2a7-956ec3db2db3"
      },
      "execution_count": null,
      "outputs": [
        {
          "output_type": "execute_result",
          "data": {
            "text/plain": [
              "array([5.1, 4.9, 4.7, 4.6, 5. , 5.4, 4.6, 5. , 4.4, 4.9, 5.4, 4.8, 4.8,\n",
              "       4.3, 5.8, 5.7, 5.4, 5.1, 5.7, 5.1, 5.4, 5.1, 4.6, 5.1, 4.8, 5. ,\n",
              "       5. , 5.2, 5.2, 4.7, 4.8, 5.4, 5.2, 5.5, 4.9, 5. , 5.5, 4.9, 4.4,\n",
              "       5.1, 5. , 4.5, 4.4, 5. , 5.1, 4.8, 5.1, 4.6, 5.3, 5. , 7. , 6.4,\n",
              "       6.9, 5.5, 6.5, 5.7, 6.3, 4.9, 6.6, 5.2, 5. , 5.9, 6. , 6.1, 5.6,\n",
              "       6.7, 5.6, 5.8, 6.2, 5.6, 5.9, 6.1, 6.3, 6.1, 6.4, 6.6, 6.8, 6.7,\n",
              "       6. , 5.7, 5.5, 5.5, 5.8, 6. , 5.4, 6. , 6.7, 6.3, 5.6, 5.5, 5.5,\n",
              "       6.1, 5.8, 5. , 5.6, 5.7, 5.7, 6.2, 5.1, 5.7, 6.3, 5.8, 7.1, 6.3,\n",
              "       6.5, 7.6, 4.9, 7.3, 6.7, 7.2, 6.5, 6.4, 6.8, 5.7, 5.8, 6.4, 6.5,\n",
              "       7.7, 7.7, 6. , 6.9, 5.6, 7.7, 6.3, 6.7, 7.2, 6.2, 6.1, 6.4, 7.2,\n",
              "       7.4, 7.9, 6.4, 6.3, 6.1, 7.7, 6.3, 6.4, 6. , 6.9, 6.7, 6.9, 5.8,\n",
              "       6.8, 6.7, 6.7, 6.3, 6.5, 6.2, 5.9])"
            ]
          },
          "metadata": {},
          "execution_count": 45
        }
      ]
    },
    {
      "cell_type": "markdown",
      "source": [
        "4.1 Создаем первые 3 сгруппированных датасета по 3м категориям на основе первого числового столбца."
      ],
      "metadata": {
        "id": "zOELzk1Rhw3F"
      }
    },
    {
      "cell_type": "code",
      "source": [
        ""
      ],
      "metadata": {
        "id": "rJPHar69h0E-"
      },
      "execution_count": null,
      "outputs": []
    },
    {
      "cell_type": "code",
      "execution_count": null,
      "metadata": {
        "id": "3af00996"
      },
      "outputs": [],
      "source": [
        "new_1 = []\n",
        "\n",
        "for i in np.unique(atr_5):\n",
        "    new_1.append(atr_1[atr_5==i])"
      ]
    },
    {
      "cell_type": "code",
      "source": [
        "#Выводим первые три группы по 1му числовому атрибуту\n",
        "new_1"
      ],
      "metadata": {
        "colab": {
          "base_uri": "https://localhost:8080/"
        },
        "id": "LpLycL7bh7cM",
        "outputId": "02e7173a-b536-4ede-a3d5-43e8948fce4f"
      },
      "execution_count": null,
      "outputs": [
        {
          "output_type": "execute_result",
          "data": {
            "text/plain": [
              "[array([5.1, 4.9, 4.7, 4.6, 5. , 5.4, 4.6, 5. , 4.4, 4.9, 5.4, 4.8, 4.8,\n",
              "        4.3, 5.8, 5.7, 5.4, 5.1, 5.7, 5.1, 5.4, 5.1, 4.6, 5.1, 4.8, 5. ,\n",
              "        5. , 5.2, 5.2, 4.7, 4.8, 5.4, 5.2, 5.5, 4.9, 5. , 5.5, 4.9, 4.4,\n",
              "        5.1, 5. , 4.5, 4.4, 5. , 5.1, 4.8, 5.1, 4.6, 5.3, 5. ]),\n",
              " array([7. , 6.4, 6.9, 5.5, 6.5, 5.7, 6.3, 4.9, 6.6, 5.2, 5. , 5.9, 6. ,\n",
              "        6.1, 5.6, 6.7, 5.6, 5.8, 6.2, 5.6, 5.9, 6.1, 6.3, 6.1, 6.4, 6.6,\n",
              "        6.8, 6.7, 6. , 5.7, 5.5, 5.5, 5.8, 6. , 5.4, 6. , 6.7, 6.3, 5.6,\n",
              "        5.5, 5.5, 6.1, 5.8, 5. , 5.6, 5.7, 5.7, 6.2, 5.1, 5.7]),\n",
              " array([6.3, 5.8, 7.1, 6.3, 6.5, 7.6, 4.9, 7.3, 6.7, 7.2, 6.5, 6.4, 6.8,\n",
              "        5.7, 5.8, 6.4, 6.5, 7.7, 7.7, 6. , 6.9, 5.6, 7.7, 6.3, 6.7, 7.2,\n",
              "        6.2, 6.1, 6.4, 7.2, 7.4, 7.9, 6.4, 6.3, 6.1, 7.7, 6.3, 6.4, 6. ,\n",
              "        6.9, 6.7, 6.9, 5.8, 6.8, 6.7, 6.7, 6.3, 6.5, 6.2, 5.9])]"
            ]
          },
          "metadata": {},
          "execution_count": 47
        }
      ]
    },
    {
      "cell_type": "code",
      "source": [
        "#Выводим самую первую группу у 1го числового атрибута\n",
        "new_1[0]"
      ],
      "metadata": {
        "colab": {
          "base_uri": "https://localhost:8080/"
        },
        "id": "8MrBs-CQh-kE",
        "outputId": "632d1963-c5ca-4d5f-d7dd-75c7f3309e9e"
      },
      "execution_count": null,
      "outputs": [
        {
          "output_type": "execute_result",
          "data": {
            "text/plain": [
              "array([5.1, 4.9, 4.7, 4.6, 5. , 5.4, 4.6, 5. , 4.4, 4.9, 5.4, 4.8, 4.8,\n",
              "       4.3, 5.8, 5.7, 5.4, 5.1, 5.7, 5.1, 5.4, 5.1, 4.6, 5.1, 4.8, 5. ,\n",
              "       5. , 5.2, 5.2, 4.7, 4.8, 5.4, 5.2, 5.5, 4.9, 5. , 5.5, 4.9, 4.4,\n",
              "       5.1, 5. , 4.5, 4.4, 5. , 5.1, 4.8, 5.1, 4.6, 5.3, 5. ])"
            ]
          },
          "metadata": {},
          "execution_count": 48
        }
      ]
    },
    {
      "cell_type": "code",
      "source": [
        "#Посчитаем среднее у первой группы\n",
        "np.mean(new_1[0])"
      ],
      "metadata": {
        "colab": {
          "base_uri": "https://localhost:8080/"
        },
        "id": "guflI5FWiFa7",
        "outputId": "b1d2f706-b17d-4d8b-913b-90baf73e5b10"
      },
      "execution_count": null,
      "outputs": [
        {
          "output_type": "execute_result",
          "data": {
            "text/plain": [
              "5.006"
            ]
          },
          "metadata": {},
          "execution_count": 49
        }
      ]
    },
    {
      "cell_type": "code",
      "source": [
        "#Посчитаем среднее для всех групп у 1го числового атрибута\n",
        "np.mean(new_1, axis = 1)"
      ],
      "metadata": {
        "colab": {
          "base_uri": "https://localhost:8080/"
        },
        "id": "8jKCb7XQiYK2",
        "outputId": "319fbad1-5245-4d6d-8d99-d3ce6aa6748a"
      },
      "execution_count": null,
      "outputs": [
        {
          "output_type": "execute_result",
          "data": {
            "text/plain": [
              "array([5.006, 5.936, 6.588])"
            ]
          },
          "metadata": {},
          "execution_count": 50
        }
      ]
    },
    {
      "cell_type": "code",
      "source": [
        "#2 задание\n",
        "print(\"Среднее для new_1 = \", np.mean(new_1, axis = 1))\n",
        "print(\"Минимум для new_1 = \", np.min(new_1, axis = 1))\n",
        "print(\"Максимум для new_1 = \", np.max(new_1, axis = 1))\n",
        "print(\"Медиана для new_1 = \", np.median(new_1, axis = 1))\n",
        "print(\"Персентиль 0.25 для new_1 = \", np.percentile(new_1, 25, axis = 1))\n",
        "print(\"Персентиль 0.75 для new_1 = \", np.percentile(new_1, 75, axis = 1))\n",
        "\n",
        "#3 задание\n",
        "plt.hist(new_1)\n",
        "plt.title(\"Гистограмма для new_1\")\n",
        "plt.legend([1,2,3])\n",
        "plt.show()"
      ],
      "metadata": {
        "colab": {
          "base_uri": "https://localhost:8080/",
          "height": 385
        },
        "id": "03Wq8WI6ieAV",
        "outputId": "67504762-60b4-4042-9ad0-7609ec8729e9"
      },
      "execution_count": null,
      "outputs": [
        {
          "output_type": "stream",
          "name": "stdout",
          "text": [
            "Среднее для new_1 =  [5.006 5.936 6.588]\n",
            "Минимум для new_1 =  [4.3 4.9 4.9]\n",
            "Максимум для new_1 =  [5.8 7.  7.9]\n",
            "Медиана для new_1 =  [5.  5.9 6.5]\n",
            "Персентиль 0.25 для new_1 =  [4.8   5.6   6.225]\n",
            "Персентиль 0.75 для new_1 =  [5.2 6.3 6.9]\n"
          ]
        },
        {
          "output_type": "display_data",
          "data": {
            "image/png": "[encoded data removed]",
            "text/plain": [
              "<Figure size 432x288 with 1 Axes>"
            ]
          },
          "metadata": {
            "needs_background": "light"
          }
        }
      ]
    },
    {
      "cell_type": "markdown",
      "source": [
        "4.2 Необходимо повторить для 2, 3 и 4 числового атрибута датасета шаг№4"
      ],
      "metadata": {
        "id": "ujTxF1pWimhu"
      }
    },
    {
      "cell_type": "code",
      "source": [
        "# для 2го атрибута\n",
        "new_2 = []\n",
        "\n",
        "for group_val in np.unique(atr_5):\n",
        "    new_2.append(atr_2[atr_5==group_val])\n",
        "\n",
        "#2 задание\n",
        "print(\"Среднее для new_2 = \", np.mean(new_2, axis = 1))\n",
        "print(\"Минимум для new_2 = \", np.min(new_2, axis = 1))\n",
        "print(\"Максимум для new_2 = \", np.max(new_2, axis = 1))\n",
        "print(\"Медиана для new_2 = \", np.median(new_2, axis = 1))\n",
        "print(\"Персентиль 0.25 для new_2 = \", np.percentile(new_2, 25, axis = 1))\n",
        "print(\"Персентиль 0.75 для new_2 = \", np.percentile(new_2, 75, axis = 1))\n",
        "\n",
        "#3 задание\n",
        "plt.hist(new_2)\n",
        "plt.title(\"Гистограмма для new_2\")\n",
        "plt.legend([1,2,3])\n",
        "plt.show()"
      ],
      "metadata": {
        "colab": {
          "base_uri": "https://localhost:8080/",
          "height": 385
        },
        "id": "70rl_eOIipt0",
        "outputId": "e43c18c7-53e6-4288-8258-d99fa4eea235"
      },
      "execution_count": null,
      "outputs": [
        {
          "output_type": "stream",
          "name": "stdout",
          "text": [
            "Среднее для new_2 =  [3.418 2.77  2.974]\n",
            "Минимум для new_2 =  [2.3 2.  2.2]\n",
            "Максимум для new_2 =  [4.4 3.4 3.8]\n",
            "Медиана для new_2 =  [3.4 2.8 3. ]\n",
            "Персентиль 0.25 для new_2 =  [3.125 2.525 2.8  ]\n",
            "Персентиль 0.75 для new_2 =  [3.675 3.    3.175]\n"
          ]
        },
        {
          "output_type": "display_data",
          "data": {
            "image/png": "[encoded data removed]",
            "text/plain": [
              "<Figure size 432x288 with 1 Axes>"
            ]
          },
          "metadata": {
            "needs_background": "light"
          }
        }
      ]
    },
    {
      "cell_type": "markdown",
      "source": [
        "Видно, что код снова повторяется, значит можем сделать церез цикл"
      ],
      "metadata": {
        "id": "B4P0QWTBi0ms"
      }
    },
    {
      "cell_type": "markdown",
      "source": [
        "4.3 Реализация через цикл для 1-4 числового атрибута"
      ],
      "metadata": {
        "id": "72ODNqLZi7zb"
      }
    },
    {
      "cell_type": "code",
      "source": [
        "new_number_atrs = [] #Создаем новый вложенный список, размер в результате которого должен = 3*4 = 12\n",
        "\n",
        "for i in range(len(number_atrs)):\n",
        "    for group_val in np.unique(atr_5): #делим общий список по названию группы, то есть на 3 части\n",
        "        new_number_atrs.append([i, group_val, number_atrs[i][atr_5==group_val]])\n",
        "#i - номер числового атрибута\n",
        "#group_val - название группы из 5 нечислового атрибута\n",
        "#number_atrs[i][atr_5==group_val] - определяем новый массив, обращаясь к вложенному списку number_atrs через i \n",
        "#и через сравнение индексов"
      ],
      "metadata": {
        "id": "lD2300pFi_dW"
      },
      "execution_count": null,
      "outputs": []
    },
    {
      "cell_type": "code",
      "source": [
        "#Проверяем размер нового вложенного списка\n",
        "len(new_number_atrs)"
      ],
      "metadata": {
        "colab": {
          "base_uri": "https://localhost:8080/"
        },
        "id": "N5aJzNKsjMTq",
        "outputId": "a8318e78-00fb-4380-dad1-28b26c633932"
      },
      "execution_count": null,
      "outputs": [
        {
          "output_type": "execute_result",
          "data": {
            "text/plain": [
              "12"
            ]
          },
          "metadata": {},
          "execution_count": 54
        }
      ]
    },
    {
      "cell_type": "code",
      "source": [
        "#Смотрим, что получилось в итоге\n",
        "new_number_atrs"
      ],
      "metadata": {
        "colab": {
          "base_uri": "https://localhost:8080/"
        },
        "id": "Gs6pCnU-jRvt",
        "outputId": "31df4507-a189-4625-c0af-f5d3fe58dbf3"
      },
      "execution_count": null,
      "outputs": [
        {
          "output_type": "execute_result",
          "data": {
            "text/plain": [
              "[[0,\n",
              "  'Iris-setosa',\n",
              "  array([5.1, 4.9, 4.7, 4.6, 5. , 5.4, 4.6, 5. , 4.4, 4.9, 5.4, 4.8, 4.8,\n",
              "         4.3, 5.8, 5.7, 5.4, 5.1, 5.7, 5.1, 5.4, 5.1, 4.6, 5.1, 4.8, 5. ,\n",
              "         5. , 5.2, 5.2, 4.7, 4.8, 5.4, 5.2, 5.5, 4.9, 5. , 5.5, 4.9, 4.4,\n",
              "         5.1, 5. , 4.5, 4.4, 5. , 5.1, 4.8, 5.1, 4.6, 5.3, 5. ])],\n",
              " [0,\n",
              "  'Iris-versicolor',\n",
              "  array([7. , 6.4, 6.9, 5.5, 6.5, 5.7, 6.3, 4.9, 6.6, 5.2, 5. , 5.9, 6. ,\n",
              "         6.1, 5.6, 6.7, 5.6, 5.8, 6.2, 5.6, 5.9, 6.1, 6.3, 6.1, 6.4, 6.6,\n",
              "         6.8, 6.7, 6. , 5.7, 5.5, 5.5, 5.8, 6. , 5.4, 6. , 6.7, 6.3, 5.6,\n",
              "         5.5, 5.5, 6.1, 5.8, 5. , 5.6, 5.7, 5.7, 6.2, 5.1, 5.7])],\n",
              " [0,\n",
              "  'Iris-virginica',\n",
              "  array([6.3, 5.8, 7.1, 6.3, 6.5, 7.6, 4.9, 7.3, 6.7, 7.2, 6.5, 6.4, 6.8,\n",
              "         5.7, 5.8, 6.4, 6.5, 7.7, 7.7, 6. , 6.9, 5.6, 7.7, 6.3, 6.7, 7.2,\n",
              "         6.2, 6.1, 6.4, 7.2, 7.4, 7.9, 6.4, 6.3, 6.1, 7.7, 6.3, 6.4, 6. ,\n",
              "         6.9, 6.7, 6.9, 5.8, 6.8, 6.7, 6.7, 6.3, 6.5, 6.2, 5.9])],\n",
              " [1,\n",
              "  'Iris-setosa',\n",
              "  array([3.5, 3. , 3.2, 3.1, 3.6, 3.9, 3.4, 3.4, 2.9, 3.1, 3.7, 3.4, 3. ,\n",
              "         3. , 4. , 4.4, 3.9, 3.5, 3.8, 3.8, 3.4, 3.7, 3.6, 3.3, 3.4, 3. ,\n",
              "         3.4, 3.5, 3.4, 3.2, 3.1, 3.4, 4.1, 4.2, 3.1, 3.2, 3.5, 3.1, 3. ,\n",
              "         3.4, 3.5, 2.3, 3.2, 3.5, 3.8, 3. , 3.8, 3.2, 3.7, 3.3])],\n",
              " [1,\n",
              "  'Iris-versicolor',\n",
              "  array([3.2, 3.2, 3.1, 2.3, 2.8, 2.8, 3.3, 2.4, 2.9, 2.7, 2. , 3. , 2.2,\n",
              "         2.9, 2.9, 3.1, 3. , 2.7, 2.2, 2.5, 3.2, 2.8, 2.5, 2.8, 2.9, 3. ,\n",
              "         2.8, 3. , 2.9, 2.6, 2.4, 2.4, 2.7, 2.7, 3. , 3.4, 3.1, 2.3, 3. ,\n",
              "         2.5, 2.6, 3. , 2.6, 2.3, 2.7, 3. , 2.9, 2.9, 2.5, 2.8])],\n",
              " [1,\n",
              "  'Iris-virginica',\n",
              "  array([3.3, 2.7, 3. , 2.9, 3. , 3. , 2.5, 2.9, 2.5, 3.6, 3.2, 2.7, 3. ,\n",
              "         2.5, 2.8, 3.2, 3. , 3.8, 2.6, 2.2, 3.2, 2.8, 2.8, 2.7, 3.3, 3.2,\n",
              "         2.8, 3. , 2.8, 3. , 2.8, 3.8, 2.8, 2.8, 2.6, 3. , 3.4, 3.1, 3. ,\n",
              "         3.1, 3.1, 3.1, 2.7, 3.2, 3.3, 3. , 2.5, 3. , 3.4, 3. ])],\n",
              " [2,\n",
              "  'Iris-setosa',\n",
              "  array([1.4, 1.4, 1.3, 1.5, 1.4, 1.7, 1.4, 1.5, 1.4, 1.5, 1.5, 1.6, 1.4,\n",
              "         1.1, 1.2, 1.5, 1.3, 1.4, 1.7, 1.5, 1.7, 1.5, 1. , 1.7, 1.9, 1.6,\n",
              "         1.6, 1.5, 1.4, 1.6, 1.6, 1.5, 1.5, 1.4, 1.5, 1.2, 1.3, 1.5, 1.3,\n",
              "         1.5, 1.3, 1.3, 1.3, 1.6, 1.9, 1.4, 1.6, 1.4, 1.5, 1.4])],\n",
              " [2,\n",
              "  'Iris-versicolor',\n",
              "  array([4.7, 4.5, 4.9, 4. , 4.6, 4.5, 4.7, 3.3, 4.6, 3.9, 3.5, 4.2, 4. ,\n",
              "         4.7, 3.6, 4.4, 4.5, 4.1, 4.5, 3.9, 4.8, 4. , 4.9, 4.7, 4.3, 4.4,\n",
              "         4.8, 5. , 4.5, 3.5, 3.8, 3.7, 3.9, 5.1, 4.5, 4.5, 4.7, 4.4, 4.1,\n",
              "         4. , 4.4, 4.6, 4. , 3.3, 4.2, 4.2, 4.2, 4.3, 3. , 4.1])],\n",
              " [2,\n",
              "  'Iris-virginica',\n",
              "  array([6. , 5.1, 5.9, 5.6, 5.8, 6.6, 4.5, 6.3, 5.8, 6.1, 5.1, 5.3, 5.5,\n",
              "         5. , 5.1, 5.3, 5.5, 6.7, 6.9, 5. , 5.7, 4.9, 6.7, 4.9, 5.7, 6. ,\n",
              "         4.8, 4.9, 5.6, 5.8, 6.1, 6.4, 5.6, 5.1, 5.6, 6.1, 5.6, 5.5, 4.8,\n",
              "         5.4, 5.6, 5.1, 5.1, 5.9, 5.7, 5.2, 5. , 5.2, 5.4, 5.1])],\n",
              " [3,\n",
              "  'Iris-setosa',\n",
              "  array([0.2, 0.2, 0.2, 0.2, 0.2, 0.4, 0.3, 0.2, 0.2, 0.1, 0.2, 0.2, 0.1,\n",
              "         0.1, 0.2, 0.4, 0.4, 0.3, 0.3, 0.3, 0.2, 0.4, 0.2, 0.5, 0.2, 0.2,\n",
              "         0.4, 0.2, 0.2, 0.2, 0.2, 0.4, 0.1, 0.2, 0.1, 0.2, 0.2, 0.1, 0.2,\n",
              "         0.2, 0.3, 0.3, 0.2, 0.6, 0.4, 0.3, 0.2, 0.2, 0.2, 0.2])],\n",
              " [3,\n",
              "  'Iris-versicolor',\n",
              "  array([1.4, 1.5, 1.5, 1.3, 1.5, 1.3, 1.6, 1. , 1.3, 1.4, 1. , 1.5, 1. ,\n",
              "         1.4, 1.3, 1.4, 1.5, 1. , 1.5, 1.1, 1.8, 1.3, 1.5, 1.2, 1.3, 1.4,\n",
              "         1.4, 1.7, 1.5, 1. , 1.1, 1. , 1.2, 1.6, 1.5, 1.6, 1.5, 1.3, 1.3,\n",
              "         1.3, 1.2, 1.4, 1.2, 1. , 1.3, 1.2, 1.3, 1.3, 1.1, 1.3])],\n",
              " [3,\n",
              "  'Iris-virginica',\n",
              "  array([2.5, 1.9, 2.1, 1.8, 2.2, 2.1, 1.7, 1.8, 1.8, 2.5, 2. , 1.9, 2.1,\n",
              "         2. , 2.4, 2.3, 1.8, 2.2, 2.3, 1.5, 2.3, 2. , 2. , 1.8, 2.1, 1.8,\n",
              "         1.8, 1.8, 2.1, 1.6, 1.9, 2. , 2.2, 1.5, 1.4, 2.3, 2.4, 1.8, 1.8,\n",
              "         2.1, 2.4, 2.3, 1.9, 2.3, 2.5, 2.3, 1.9, 2. , 2.3, 1.8])]]"
            ]
          },
          "metadata": {},
          "execution_count": 55
        }
      ]
    },
    {
      "cell_type": "code",
      "source": [
        "#Выведем новую группу (вложенный списко) номер 1 атрибута 1 \n",
        "new_number_atrs[0]"
      ],
      "metadata": {
        "colab": {
          "base_uri": "https://localhost:8080/"
        },
        "id": "8eVZezGljYRp",
        "outputId": "74d0a651-5bd6-4ea2-99ea-3e47642805ee"
      },
      "execution_count": null,
      "outputs": [
        {
          "output_type": "execute_result",
          "data": {
            "text/plain": [
              "[0,\n",
              " 'Iris-setosa',\n",
              " array([5.1, 4.9, 4.7, 4.6, 5. , 5.4, 4.6, 5. , 4.4, 4.9, 5.4, 4.8, 4.8,\n",
              "        4.3, 5.8, 5.7, 5.4, 5.1, 5.7, 5.1, 5.4, 5.1, 4.6, 5.1, 4.8, 5. ,\n",
              "        5. , 5.2, 5.2, 4.7, 4.8, 5.4, 5.2, 5.5, 4.9, 5. , 5.5, 4.9, 4.4,\n",
              "        5.1, 5. , 4.5, 4.4, 5. , 5.1, 4.8, 5.1, 4.6, 5.3, 5. ])]"
            ]
          },
          "metadata": {},
          "execution_count": 56
        }
      ]
    },
    {
      "cell_type": "code",
      "source": [
        "#Для получения числового массива из новой группы нужно обратиться к 3ему элементу\n",
        "new_number_atrs[0][2]\n",
        "#0 - номер нового вложенного списка\n",
        "#2 - номер элемента, где содержится числовой массив - будет неизменным"
      ],
      "metadata": {
        "colab": {
          "base_uri": "https://localhost:8080/"
        },
        "id": "2WRU6UiqjfIK",
        "outputId": "d64f5473-9ead-4064-a1cc-551aa69ac140"
      },
      "execution_count": null,
      "outputs": [
        {
          "output_type": "execute_result",
          "data": {
            "text/plain": [
              "array([5.1, 4.9, 4.7, 4.6, 5. , 5.4, 4.6, 5. , 4.4, 4.9, 5.4, 4.8, 4.8,\n",
              "       4.3, 5.8, 5.7, 5.4, 5.1, 5.7, 5.1, 5.4, 5.1, 4.6, 5.1, 4.8, 5. ,\n",
              "       5. , 5.2, 5.2, 4.7, 4.8, 5.4, 5.2, 5.5, 4.9, 5. , 5.5, 4.9, 4.4,\n",
              "       5.1, 5. , 4.5, 4.4, 5. , 5.1, 4.8, 5.1, 4.6, 5.3, 5. ])"
            ]
          },
          "metadata": {},
          "execution_count": 57
        }
      ]
    },
    {
      "cell_type": "code",
      "source": [
        "for i in range(12):\n",
        "  print(f\"Среднее для группы {new_number_atrs[i][1]} из числового атрибута {new_number_atrs[i][0]}\", np.mean(new_number_atrs[i][2]))\n",
        "  plt.hist(new_number_atrs[i][2])\n",
        "  plt.show()"
      ],
      "metadata": {
        "colab": {
          "base_uri": "https://localhost:8080/",
          "height": 1000
        },
        "id": "5M_x95FsjlFb",
        "outputId": "cc427531-94b9-4b3e-8bc8-4b8f0ed8b340"
      },
      "execution_count": null,
      "outputs": [
        {
          "output_type": "stream",
          "name": "stdout",
          "text": [
            "Среднее для группы Iris-setosa из числового атрибута 0 5.006\n"
          ]
        },
        {
          "output_type": "display_data",
          "data": {
            "image/png": "[encoded data removed]",
            "text/plain": [
              "<Figure size 432x288 with 1 Axes>"
            ]
          },
          "metadata": {
            "needs_background": "light"
          }
        },
        {
          "output_type": "stream",
          "name": "stdout",
          "text": [
            "Среднее для группы Iris-versicolor из числового атрибута 0 5.936\n"
          ]
        },
        {
          "output_type": "display_data",
          "data": {
            "image/png": "[encoded data removed]",
            "text/plain": [
              "<Figure size 432x288 with 1 Axes>"
            ]
          },
          "metadata": {
            "needs_background": "light"
          }
        },
        {
          "output_type": "stream",
          "name": "stdout",
          "text": [
            "Среднее для группы Iris-virginica из числового атрибута 0 6.587999999999998\n"
          ]
        },
        {
          "output_type": "display_data",
          "data": {
            "image/png": "[encoded data removed]",
            "text/plain": [
              "<Figure size 432x288 with 1 Axes>"
            ]
          },
          "metadata": {
            "needs_background": "light"
          }
        },
        {
          "output_type": "stream",
          "name": "stdout",
          "text": [
            "Среднее для группы Iris-setosa из числового атрибута 1 3.418\n"
          ]
        },
        {
          "output_type": "display_data",
          "data": {
            "image/png": "[encoded data removed]",
            "text/plain": [
              "<Figure size 432x288 with 1 Axes>"
            ]
          },
          "metadata": {
            "needs_background": "light"
          }
        },
        {
          "output_type": "stream",
          "name": "stdout",
          "text": [
            "Среднее для группы Iris-versicolor из числового атрибута 1 2.7700000000000005\n"
          ]
        },
        {
          "output_type": "display_data",
          "data": {
            "image/png": "[encoded data removed]",
            "text/plain": [
              "<Figure size 432x288 with 1 Axes>"
            ]
          },
          "metadata": {
            "needs_background": "light"
          }
        },
        {
          "output_type": "stream",
          "name": "stdout",
          "text": [
            "Среднее для группы Iris-virginica из числового атрибута 1 2.974\n"
          ]
        },
        {
          "output_type": "display_data",
          "data": {
            "image/png": "[encoded data removed]",
            "text/plain": [
              "<Figure size 432x288 with 1 Axes>"
            ]
          },
          "metadata": {
            "needs_background": "light"
          }
        },
        {
          "output_type": "stream",
          "name": "stdout",
          "text": [
            "Среднее для группы Iris-setosa из числового атрибута 2 1.464\n"
          ]
        },
        {
          "output_type": "display_data",
          "data": {
            "image/png": "[encoded data removed]",
            "text/plain": [
              "<Figure size 432x288 with 1 Axes>"
            ]
          },
          "metadata": {
            "needs_background": "light"
          }
        },
        {
          "output_type": "stream",
          "name": "stdout",
          "text": [
            "Среднее для группы Iris-versicolor из числового атрибута 2 4.26\n"
          ]
        },
        {
          "output_type": "display_data",
          "data": {
            "image/png": "[encoded data removed]",
            "text/plain": [
              "<Figure size 432x288 with 1 Axes>"
            ]
          },
          "metadata": {
            "needs_background": "light"
          }
        },
        {
          "output_type": "stream",
          "name": "stdout",
          "text": [
            "Среднее для группы Iris-virginica из числового атрибута 2 5.5520000000000005\n"
          ]
        },
        {
          "output_type": "display_data",
          "data": {
            "image/png": "[encoded data removed]",
            "text/plain": [
              "<Figure size 432x288 with 1 Axes>"
            ]
          },
          "metadata": {
            "needs_background": "light"
          }
        },
        {
          "output_type": "stream",
          "name": "stdout",
          "text": [
            "Среднее для группы Iris-setosa из числового атрибута 3 0.244\n"
          ]
        },
        {
          "output_type": "display_data",
          "data": {
            "image/png": "[encoded data removed]",
            "text/plain": [
              "<Figure size 432x288 with 1 Axes>"
            ]
          },
          "metadata": {
            "needs_background": "light"
          }
        },
        {
          "output_type": "stream",
          "name": "stdout",
          "text": [
            "Среднее для группы Iris-versicolor из числового атрибута 3 1.3259999999999998\n"
          ]
        },
        {
          "output_type": "display_data",
          "data": {
            "image/png": "[encoded data removed]",
            "text/plain": [
              "<Figure size 432x288 with 1 Axes>"
            ]
          },
          "metadata": {
            "needs_background": "light"
          }
        },
        {
          "output_type": "stream",
          "name": "stdout",
          "text": [
            "Среднее для группы Iris-virginica из числового атрибута 3 2.0260000000000002\n"
          ]
        },
        {
          "output_type": "display_data",
          "data": {
            "image/png": "[encoded data removed]",
            "text/plain": [
              "<Figure size 432x288 with 1 Axes>"
            ]
          },
          "metadata": {
            "needs_background": "light"
          }
        }
      ]
    },
    {
      "cell_type": "code",
      "source": [
        "#обращаемся к каждому новому массиву new_number_atrs[i] из нового вложенного списка new_number_atrs\n",
        "for i in range(len(new_number_atrs)):\n",
        "    print(f'Для числового атрибута {new_number_atrs[i][0]+1}  группы {new_number_atrs[i][1]}')\n",
        "    print('\\n')\n",
        "    print('*** Выведем статистику - задание 2 ***')\n",
        "    print(f'Среднее для нового атрибута {i} = ', np.mean(new_number_atrs[i][2]))\n",
        "    print(f'Минимум для нового атрибута {i} = ', np.min(new_number_atrs[i][2]))\n",
        "    print(f'Максимум для нового атрибута {i} = ', np.max(new_number_atrs[i][2]))\n",
        "    print(f'Медиана для нового атрибута {i} = ', np.median(new_number_atrs[i][2]))\n",
        "    print(f'Персентиль 0.25 для нового атрибута {i} = ', np.percentile(new_number_atrs[i][2], 25))\n",
        "    print(f'Персентиль 0.75 для нового атрибута {i} = ', np.percentile(new_number_atrs[i][2], 75))\n",
        "    print('\\n')\n",
        "    print('*** Выведем гистограмму - задание 3 ***')\n",
        "    plt.hist(new_number_atrs[i][2])\n",
        "    plt.title(f'Гистограмма для нового атрибута {i}')\n",
        "    plt.show()"
      ],
      "metadata": {
        "colab": {
          "base_uri": "https://localhost:8080/",
          "height": 1000
        },
        "id": "3rFF2JkijqW7",
        "outputId": "91c7e3a8-7066-40d9-bad1-40a2208d44e4"
      },
      "execution_count": null,
      "outputs": [
        {
          "output_type": "stream",
          "name": "stdout",
          "text": [
            "Для числового атрибута 1  группы Iris-setosa\n",
            "\n",
            "\n",
            "*** Выведем статистику - задание 2 ***\n",
            "Среднее для нового атрибута 0 =  5.006\n",
            "Минимум для нового атрибута 0 =  4.3\n",
            "Максимум для нового атрибута 0 =  5.8\n",
            "Медиана для нового атрибута 0 =  5.0\n",
            "Персентиль 0.25 для нового атрибута 0 =  4.8\n",
            "Персентиль 0.75 для нового атрибута 0 =  5.2\n",
            "\n",
            "\n",
            "*** Выведем гистограмму - задание 3 ***\n"
          ]
        },
        {
          "output_type": "display_data",
          "data": {
            "image/png": "[encoded data removed]",
            "text/plain": [
              "<Figure size 432x288 with 1 Axes>"
            ]
          },
          "metadata": {
            "needs_background": "light"
          }
        },
        {
          "output_type": "stream",
          "name": "stdout",
          "text": [
            "Для числового атрибута 1  группы Iris-versicolor\n",
            "\n",
            "\n",
            "*** Выведем статистику - задание 2 ***\n",
            "Среднее для нового атрибута 1 =  5.936\n",
            "Минимум для нового атрибута 1 =  4.9\n",
            "Максимум для нового атрибута 1 =  7.0\n",
            "Медиана для нового атрибута 1 =  5.9\n",
            "Персентиль 0.25 для нового атрибута 1 =  5.6\n",
            "Персентиль 0.75 для нового атрибута 1 =  6.3\n",
            "\n",
            "\n",
            "*** Выведем гистограмму - задание 3 ***\n"
          ]
        },
        {
          "output_type": "display_data",
          "data": {
            "image/png": "[encoded data removed]",
            "text/plain": [
              "<Figure size 432x288 with 1 Axes>"
            ]
          },
          "metadata": {
            "needs_background": "light"
          }
        },
        {
          "output_type": "stream",
          "name": "stdout",
          "text": [
            "Для числового атрибута 1  группы Iris-virginica\n",
            "\n",
            "\n",
            "*** Выведем статистику - задание 2 ***\n",
            "Среднее для нового атрибута 2 =  6.587999999999998\n",
            "Минимум для нового атрибута 2 =  4.9\n",
            "Максимум для нового атрибута 2 =  7.9\n",
            "Медиана для нового атрибута 2 =  6.5\n",
            "Персентиль 0.25 для нового атрибута 2 =  6.2250000000000005\n",
            "Персентиль 0.75 для нового атрибута 2 =  6.9\n",
            "\n",
            "\n",
            "*** Выведем гистограмму - задание 3 ***\n"
          ]
        },
        {
          "output_type": "display_data",
          "data": {
            "image/png": "[encoded data removed]",
            "text/plain": [
              "<Figure size 432x288 with 1 Axes>"
            ]
          },
          "metadata": {
            "needs_background": "light"
          }
        },
        {
          "output_type": "stream",
          "name": "stdout",
          "text": [
            "Для числового атрибута 2  группы Iris-setosa\n",
            "\n",
            "\n",
            "*** Выведем статистику - задание 2 ***\n",
            "Среднее для нового атрибута 3 =  3.418\n",
            "Минимум для нового атрибута 3 =  2.3\n",
            "Максимум для нового атрибута 3 =  4.4\n",
            "Медиана для нового атрибута 3 =  3.4\n",
            "Персентиль 0.25 для нового атрибута 3 =  3.125\n",
            "Персентиль 0.75 для нового атрибута 3 =  3.6750000000000003\n",
            "\n",
            "\n",
            "*** Выведем гистограмму - задание 3 ***\n"
          ]
        },
        {
          "output_type": "display_data",
          "data": {
            "image/png": "[encoded data removed]",
            "text/plain": [
              "<Figure size 432x288 with 1 Axes>"
            ]
          },
          "metadata": {
            "needs_background": "light"
          }
        },
        {
          "output_type": "stream",
          "name": "stdout",
          "text": [
            "Для числового атрибута 2  группы Iris-versicolor\n",
            "\n",
            "\n",
            "*** Выведем статистику - задание 2 ***\n",
            "Среднее для нового атрибута 4 =  2.7700000000000005\n",
            "Минимум для нового атрибута 4 =  2.0\n",
            "Максимум для нового атрибута 4 =  3.4\n",
            "Медиана для нового атрибута 4 =  2.8\n",
            "Персентиль 0.25 для нового атрибута 4 =  2.525\n",
            "Персентиль 0.75 для нового атрибута 4 =  3.0\n",
            "\n",
            "\n",
            "*** Выведем гистограмму - задание 3 ***\n"
          ]
        },
        {
          "output_type": "display_data",
          "data": {
            "image/png": "[encoded data removed]",
            "text/plain": [
              "<Figure size 432x288 with 1 Axes>"
            ]
          },
          "metadata": {
            "needs_background": "light"
          }
        },
        {
          "output_type": "stream",
          "name": "stdout",
          "text": [
            "Для числового атрибута 2  группы Iris-virginica\n",
            "\n",
            "\n",
            "*** Выведем статистику - задание 2 ***\n",
            "Среднее для нового атрибута 5 =  2.974\n",
            "Минимум для нового атрибута 5 =  2.2\n",
            "Максимум для нового атрибута 5 =  3.8\n",
            "Медиана для нового атрибута 5 =  3.0\n",
            "Персентиль 0.25 для нового атрибута 5 =  2.8\n",
            "Персентиль 0.75 для нового атрибута 5 =  3.1750000000000003\n",
            "\n",
            "\n",
            "*** Выведем гистограмму - задание 3 ***\n"
          ]
        },
        {
          "output_type": "display_data",
          "data": {
            "image/png": "[encoded data removed]",
            "text/plain": [
              "<Figure size 432x288 with 1 Axes>"
            ]
          },
          "metadata": {
            "needs_background": "light"
          }
        },
        {
          "output_type": "stream",
          "name": "stdout",
          "text": [
            "Для числового атрибута 3  группы Iris-setosa\n",
            "\n",
            "\n",
            "*** Выведем статистику - задание 2 ***\n",
            "Среднее для нового атрибута 6 =  1.464\n",
            "Минимум для нового атрибута 6 =  1.0\n",
            "Максимум для нового атрибута 6 =  1.9\n",
            "Медиана для нового атрибута 6 =  1.5\n",
            "Персентиль 0.25 для нового атрибута 6 =  1.4\n",
            "Персентиль 0.75 для нового атрибута 6 =  1.5750000000000002\n",
            "\n",
            "\n",
            "*** Выведем гистограмму - задание 3 ***\n"
          ]
        },
        {
          "output_type": "display_data",
          "data": {
            "image/png": "[encoded data removed]",
            "text/plain": [
              "<Figure size 432x288 with 1 Axes>"
            ]
          },
          "metadata": {
            "needs_background": "light"
          }
        },
        {
          "output_type": "stream",
          "name": "stdout",
          "text": [
            "Для числового атрибута 3  группы Iris-versicolor\n",
            "\n",
            "\n",
            "*** Выведем статистику - задание 2 ***\n",
            "Среднее для нового атрибута 7 =  4.26\n",
            "Минимум для нового атрибута 7 =  3.0\n",
            "Максимум для нового атрибута 7 =  5.1\n",
            "Медиана для нового атрибута 7 =  4.35\n",
            "Персентиль 0.25 для нового атрибута 7 =  4.0\n",
            "Персентиль 0.75 для нового атрибута 7 =  4.6\n",
            "\n",
            "\n",
            "*** Выведем гистограмму - задание 3 ***\n"
          ]
        },
        {
          "output_type": "display_data",
          "data": {
            "image/png": "[encoded data removed]",
            "text/plain": [
              "<Figure size 432x288 with 1 Axes>"
            ]
          },
          "metadata": {
            "needs_background": "light"
          }
        },
        {
          "output_type": "stream",
          "name": "stdout",
          "text": [
            "Для числового атрибута 3  группы Iris-virginica\n",
            "\n",
            "\n",
            "*** Выведем статистику - задание 2 ***\n",
            "Среднее для нового атрибута 8 =  5.5520000000000005\n",
            "Минимум для нового атрибута 8 =  4.5\n",
            "Максимум для нового атрибута 8 =  6.9\n",
            "Медиана для нового атрибута 8 =  5.55\n",
            "Персентиль 0.25 для нового атрибута 8 =  5.1\n",
            "Персентиль 0.75 для нового атрибута 8 =  5.875000000000001\n",
            "\n",
            "\n",
            "*** Выведем гистограмму - задание 3 ***\n"
          ]
        },
        {
          "output_type": "display_data",
          "data": {
            "image/png": "[encoded data removed]",
            "text/plain": [
              "<Figure size 432x288 with 1 Axes>"
            ]
          },
          "metadata": {
            "needs_background": "light"
          }
        },
        {
          "output_type": "stream",
          "name": "stdout",
          "text": [
            "Для числового атрибута 4  группы Iris-setosa\n",
            "\n",
            "\n",
            "*** Выведем статистику - задание 2 ***\n",
            "Среднее для нового атрибута 9 =  0.244\n",
            "Минимум для нового атрибута 9 =  0.1\n",
            "Максимум для нового атрибута 9 =  0.6\n",
            "Медиана для нового атрибута 9 =  0.2\n",
            "Персентиль 0.25 для нового атрибута 9 =  0.2\n",
            "Персентиль 0.75 для нового атрибута 9 =  0.3\n",
            "\n",
            "\n",
            "*** Выведем гистограмму - задание 3 ***\n"
          ]
        },
        {
          "output_type": "display_data",
          "data": {
            "image/png": "[encoded data removed]",
            "text/plain": [
              "<Figure size 432x288 with 1 Axes>"
            ]
          },
          "metadata": {
            "needs_background": "light"
          }
        },
        {
          "output_type": "stream",
          "name": "stdout",
          "text": [
            "Для числового атрибута 4  группы Iris-versicolor\n",
            "\n",
            "\n",
            "*** Выведем статистику - задание 2 ***\n",
            "Среднее для нового атрибута 10 =  1.3259999999999998\n",
            "Минимум для нового атрибута 10 =  1.0\n",
            "Максимум для нового атрибута 10 =  1.8\n",
            "Медиана для нового атрибута 10 =  1.3\n",
            "Персентиль 0.25 для нового атрибута 10 =  1.2\n",
            "Персентиль 0.75 для нового атрибута 10 =  1.5\n",
            "\n",
            "\n",
            "*** Выведем гистограмму - задание 3 ***\n"
          ]
        },
        {
          "output_type": "display_data",
          "data": {
            "image/png": "[encoded data removed]",
            "text/plain": [
              "<Figure size 432x288 with 1 Axes>"
            ]
          },
          "metadata": {
            "needs_background": "light"
          }
        },
        {
          "output_type": "stream",
          "name": "stdout",
          "text": [
            "Для числового атрибута 4  группы Iris-virginica\n",
            "\n",
            "\n",
            "*** Выведем статистику - задание 2 ***\n",
            "Среднее для нового атрибута 11 =  2.0260000000000002\n",
            "Минимум для нового атрибута 11 =  1.4\n",
            "Максимум для нового атрибута 11 =  2.5\n",
            "Медиана для нового атрибута 11 =  2.0\n",
            "Персентиль 0.25 для нового атрибута 11 =  1.8\n",
            "Персентиль 0.75 для нового атрибута 11 =  2.3\n",
            "\n",
            "\n",
            "*** Выведем гистограмму - задание 3 ***\n"
          ]
        },
        {
          "output_type": "display_data",
          "data": {
            "image/png": "[encoded data removed]",
            "text/plain": [
              "<Figure size 432x288 with 1 Axes>"
            ]
          },
          "metadata": {
            "needs_background": "light"
          }
        }
      ]
    }
  ]
}