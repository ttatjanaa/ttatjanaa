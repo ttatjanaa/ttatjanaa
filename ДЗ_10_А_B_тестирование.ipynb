{
  "nbformat": 4,
  "nbformat_minor": 0,
  "metadata": {
    "colab": {
      "name": "ДЗ 10_А/B тестирование.ipynb",
      "provenance": [],
      "collapsed_sections": [],
      "authorship_tag": "ABX9TyNlK0IPkCEl0Wgsd917byWf",
      "include_colab_link": true
    },
    "kernelspec": {
      "name": "python3",
      "display_name": "Python 3"
    },
    "language_info": {
      "name": "python"
    }
  },
  "cells": [
    {
      "cell_type": "markdown",
      "metadata": {
        "id": "view-in-github",
        "colab_type": "text"
      },
      "source": [
        "<a href=\"https://colab.research.google.com/github/ttatjanaa/ttatjanaa/blob/main/%D0%94%D0%97_10_%D0%90_B_%D1%82%D0%B5%D1%81%D1%82%D0%B8%D1%80%D0%BE%D0%B2%D0%B0%D0%BD%D0%B8%D0%B5.ipynb\" target=\"_parent\"><img src=\"https://colab.research.google.com/assets/colab-badge.svg\" alt=\"Open In Colab\"/></a>"
      ]
    },
    {
      "cell_type": "markdown",
      "source": [
        "ДЗ 10 Python A/B\n",
        "В этом задании вам необходимо использовать набор данных ad.csv.\n",
        "\n",
        "1) Датасет содежит 2 столбца: объявление (A/B) и действие (0/1).\n",
        "\n",
        "2) Вам необходимо сформулировать гипотезу, провести ее проверку (пользуясь классическим подходом) и ответить на вопрос какое из объявлений лучше."
      ],
      "metadata": {
        "id": "ey1AnwyzT_yH"
      }
    },
    {
      "cell_type": "markdown",
      "source": [
        "Новый раздел\n",
        "1. Контекст задачи\n",
        "Команда ux-дизайнеров работает над улучшением рекламного объявления. Текущая конверсия составляет в среднем в течении года 30%, но будет отлично, если данный коэффициент повысится до 40%. То есть новый дизайн объявления будет успешным, если оно повысит коэф-т конверсии до 40%.\n",
        "\n",
        "2. Формулировка гипотезы\n",
        "Hо: p(a) = p(b)\n",
        "\n",
        "H1: p(a) ≠ p(b)\n",
        "\n",
        "где p(a) и p(b) означают соответственно коэффициент конверсии старого и нового дизайна. Мы также установим уровень доверия 95%, то есть α = 0,05\n",
        "\n",
        "Значение α - это порог, который устанавливаем и делаем вывод: «Если вероятность наблюдения за результатом (p-значением) ниже α, то мы отвергаем гипотезу Hо». Поскольку наша α=0,05 (что указывает на вероятность 5%), наша уверенность (1 — α) составляет 95%.\n",
        "\n",
        "В результате решения данной задачи, мы хотим быть на 95% уверены, что новый дизайн статистически отличается от коэффициента конверсии старого дизайна, прежде чем отклонить нулевую гипотезу Ho."
      ],
      "metadata": {
        "id": "HTcvLrTDUH4m"
      }
    },
    {
      "cell_type": "markdown",
      "source": [
        "3. Набор данных"
      ],
      "metadata": {
        "id": "5sQKIwtpUScN"
      }
    },
    {
      "cell_type": "code",
      "source": [
        "import pandas as pd\n",
        "import numpy as np\n",
        "import seaborn as sns\n",
        "import scipy.stats as stats\n",
        "import matplotlib.pyplot as plt"
      ],
      "metadata": {
        "id": "IG8kO9umUQbo"
      },
      "execution_count": null,
      "outputs": []
    },
    {
      "cell_type": "code",
      "source": [
        "df = pd.read_csv('ad.csv')"
      ],
      "metadata": {
        "id": "CbhsG4XZUbXi"
      },
      "execution_count": null,
      "outputs": []
    },
    {
      "cell_type": "code",
      "source": [
        "df.head()"
      ],
      "metadata": {
        "colab": {
          "base_uri": "https://localhost:8080/",
          "height": 206
        },
        "id": "ZTUROCAVU7cD",
        "outputId": "753c679e-aeee-49bb-ef92-a3c6aa3582cc"
      },
      "execution_count": null,
      "outputs": [
        {
          "output_type": "execute_result",
          "data": {
            "text/plain": [
              "  ad_id  action\n",
              "0     B       1\n",
              "1     B       1\n",
              "2     A       0\n",
              "3     B       0\n",
              "4     A       1"
            ],
            "text/html": [
              "\n",
              "  <div id=\"df-326073df-09bb-46d2-a03a-5136f81b36ce\">\n",
              "    <div class=\"colab-df-container\">\n",
              "      <div>\n",
              "<style scoped>\n",
              "    .dataframe tbody tr th:only-of-type {\n",
              "        vertical-align: middle;\n",
              "    }\n",
              "\n",
              "    .dataframe tbody tr th {\n",
              "        vertical-align: top;\n",
              "    }\n",
              "\n",
              "    .dataframe thead th {\n",
              "        text-align: right;\n",
              "    }\n",
              "</style>\n",
              "<table border=\"1\" class=\"dataframe\">\n",
              "  <thead>\n",
              "    <tr style=\"text-align: right;\">\n",
              "      <th></th>\n",
              "      <th>ad_id</th>\n",
              "      <th>action</th>\n",
              "    </tr>\n",
              "  </thead>\n",
              "  <tbody>\n",
              "    <tr>\n",
              "      <th>0</th>\n",
              "      <td>B</td>\n",
              "      <td>1</td>\n",
              "    </tr>\n",
              "    <tr>\n",
              "      <th>1</th>\n",
              "      <td>B</td>\n",
              "      <td>1</td>\n",
              "    </tr>\n",
              "    <tr>\n",
              "      <th>2</th>\n",
              "      <td>A</td>\n",
              "      <td>0</td>\n",
              "    </tr>\n",
              "    <tr>\n",
              "      <th>3</th>\n",
              "      <td>B</td>\n",
              "      <td>0</td>\n",
              "    </tr>\n",
              "    <tr>\n",
              "      <th>4</th>\n",
              "      <td>A</td>\n",
              "      <td>1</td>\n",
              "    </tr>\n",
              "  </tbody>\n",
              "</table>\n",
              "</div>\n",
              "      <button class=\"colab-df-convert\" onclick=\"convertToInteractive('df-326073df-09bb-46d2-a03a-5136f81b36ce')\"\n",
              "              title=\"Convert this dataframe to an interactive table.\"\n",
              "              style=\"display:none;\">\n",
              "        \n",
              "  <svg xmlns=\"http://www.w3.org/2000/svg\" height=\"24px\"viewBox=\"0 0 24 24\"\n",
              "       width=\"24px\">\n",
              "    <path d=\"M0 0h24v24H0V0z\" fill=\"none\"/>\n",
              "    <path d=\"M18.56 5.44l.94 2.06.94-2.06 2.06-.94-2.06-.94-.94-2.06-.94 2.06-2.06.94zm-11 1L8.5 8.5l.94-2.06 2.06-.94-2.06-.94L8.5 2.5l-.94 2.06-2.06.94zm10 10l.94 2.06.94-2.06 2.06-.94-2.06-.94-.94-2.06-.94 2.06-2.06.94z\"/><path d=\"M17.41 7.96l-1.37-1.37c-.4-.4-.92-.59-1.43-.59-.52 0-1.04.2-1.43.59L10.3 9.45l-7.72 7.72c-.78.78-.78 2.05 0 2.83L4 21.41c.39.39.9.59 1.41.59.51 0 1.02-.2 1.41-.59l7.78-7.78 2.81-2.81c.8-.78.8-2.07 0-2.86zM5.41 20L4 18.59l7.72-7.72 1.47 1.35L5.41 20z\"/>\n",
              "  </svg>\n",
              "      </button>\n",
              "      \n",
              "  <style>\n",
              "    .colab-df-container {\n",
              "      display:flex;\n",
              "      flex-wrap:wrap;\n",
              "      gap: 12px;\n",
              "    }\n",
              "\n",
              "    .colab-df-convert {\n",
              "      background-color: #E8F0FE;\n",
              "      border: none;\n",
              "      border-radius: 50%;\n",
              "      cursor: pointer;\n",
              "      display: none;\n",
              "      fill: #1967D2;\n",
              "      height: 32px;\n",
              "      padding: 0 0 0 0;\n",
              "      width: 32px;\n",
              "    }\n",
              "\n",
              "    .colab-df-convert:hover {\n",
              "      background-color: #E2EBFA;\n",
              "      box-shadow: 0px 1px 2px rgba(60, 64, 67, 0.3), 0px 1px 3px 1px rgba(60, 64, 67, 0.15);\n",
              "      fill: #174EA6;\n",
              "    }\n",
              "\n",
              "    [theme=dark] .colab-df-convert {\n",
              "      background-color: #3B4455;\n",
              "      fill: #D2E3FC;\n",
              "    }\n",
              "\n",
              "    [theme=dark] .colab-df-convert:hover {\n",
              "      background-color: #434B5C;\n",
              "      box-shadow: 0px 1px 3px 1px rgba(0, 0, 0, 0.15);\n",
              "      filter: drop-shadow(0px 1px 2px rgba(0, 0, 0, 0.3));\n",
              "      fill: #FFFFFF;\n",
              "    }\n",
              "  </style>\n",
              "\n",
              "      <script>\n",
              "        const buttonEl =\n",
              "          document.querySelector('#df-326073df-09bb-46d2-a03a-5136f81b36ce button.colab-df-convert');\n",
              "        buttonEl.style.display =\n",
              "          google.colab.kernel.accessAllowed ? 'block' : 'none';\n",
              "\n",
              "        async function convertToInteractive(key) {\n",
              "          const element = document.querySelector('#df-326073df-09bb-46d2-a03a-5136f81b36ce');\n",
              "          const dataTable =\n",
              "            await google.colab.kernel.invokeFunction('convertToInteractive',\n",
              "                                                     [key], {});\n",
              "          if (!dataTable) return;\n",
              "\n",
              "          const docLinkHtml = 'Like what you see? Visit the ' +\n",
              "            '<a target=\"_blank\" href=https://colab.research.google.com/notebooks/data_table.ipynb>data table notebook</a>'\n",
              "            + ' to learn more about interactive tables.';\n",
              "          element.innerHTML = '';\n",
              "          dataTable['output_type'] = 'display_data';\n",
              "          await google.colab.output.renderOutput(dataTable, element);\n",
              "          const docLink = document.createElement('div');\n",
              "          docLink.innerHTML = docLinkHtml;\n",
              "          element.appendChild(docLink);\n",
              "        }\n",
              "      </script>\n",
              "    </div>\n",
              "  </div>\n",
              "  "
            ]
          },
          "metadata": {},
          "execution_count": 12
        }
      ]
    },
    {
      "cell_type": "markdown",
      "source": [
        "Описание набора данных:\n",
        "\n",
        "A - контрольная группа\n",
        "\n",
        "B - тестовая группа\n",
        "\n",
        "action:\n",
        "\n",
        "0 - не было покупки\n",
        "\n",
        "1 - была покупка"
      ],
      "metadata": {
        "id": "-UvPnj4bVH2O"
      }
    },
    {
      "cell_type": "code",
      "source": [
        "sns.histplot(data=df, x=\"action\", hue=\"ad_id\", multiple=\"dodge\")"
      ],
      "metadata": {
        "colab": {
          "base_uri": "https://localhost:8080/",
          "height": 297
        },
        "id": "5_II9WdgVLwx",
        "outputId": "ed9f6438-2b01-4590-ab87-9c908f0583c8"
      },
      "execution_count": null,
      "outputs": [
        {
          "output_type": "execute_result",
          "data": {
            "text/plain": [
              "<matplotlib.axes._subplots.AxesSubplot at 0x7f2fdebf3250>"
            ]
          },
          "metadata": {},
          "execution_count": 13
        },
        {
          "output_type": "display_data",
          "data": {
            "text/plain": [
              "<Figure size 432x288 with 1 Axes>"
            ],
            "image/png": "[encoded data removed]"
          },
          "metadata": {
            "needs_background": "light"
          }
        }
      ]
    },
    {
      "cell_type": "markdown",
      "source": [
        "Промежуточные выводы:\n",
        "\n",
        "Распределение данных дискретное, которое принимает на вход только два значения: 0 и 1\n",
        "4. Статистика набора данных\n",
        "Чтобы посмотреть результат по сумме кликов по группам, можно использовать pivot_table\n",
        "\n",
        "DataFrame.pivot_table(values=None, index=None, columns=None, aggfunc='mean', fill_value=None, margins=False, dropna=True, margins_name='All', observed=False, sort=True) Create a spreadsheet-style pivot table as a DataFrame.\n",
        "\n",
        "Parameters:\n",
        "\n",
        "values: column to aggregate, optional\n",
        "\n",
        "index: column, Grouper, array, or list of the previous\n",
        "\n",
        "columns: column, Grouper, array, or list of the previous\n",
        "\n",
        "aggfunc: function, list of functions, dict, default numpy.mean\n",
        "\n",
        "https://pandas.pydata.org/docs/reference/api/pandas.DataFrame.pivot_table.html?highlight=pivot_table"
      ],
      "metadata": {
        "id": "UeEFQZqnVYud"
      }
    },
    {
      "cell_type": "code",
      "source": [
        "summary_df = df.pivot_table(values='action', index = 'ad_id', aggfunc=np.sum)"
      ],
      "metadata": {
        "id": "3HPMWiKhVfCo"
      },
      "execution_count": null,
      "outputs": []
    },
    {
      "cell_type": "code",
      "source": [
        "summary_df"
      ],
      "metadata": {
        "colab": {
          "base_uri": "https://localhost:8080/",
          "height": 143
        },
        "id": "LsZDlqKEVoVV",
        "outputId": "3d5e561f-228c-4055-f6f2-bfeaa1e9406c"
      },
      "execution_count": null,
      "outputs": [
        {
          "output_type": "execute_result",
          "data": {
            "text/plain": [
              "       action\n",
              "ad_id        \n",
              "A         304\n",
              "B         372"
            ],
            "text/html": [
              "\n",
              "  <div id=\"df-a5699fdb-6bf2-453c-a07c-367f945abf92\">\n",
              "    <div class=\"colab-df-container\">\n",
              "      <div>\n",
              "<style scoped>\n",
              "    .dataframe tbody tr th:only-of-type {\n",
              "        vertical-align: middle;\n",
              "    }\n",
              "\n",
              "    .dataframe tbody tr th {\n",
              "        vertical-align: top;\n",
              "    }\n",
              "\n",
              "    .dataframe thead th {\n",
              "        text-align: right;\n",
              "    }\n",
              "</style>\n",
              "<table border=\"1\" class=\"dataframe\">\n",
              "  <thead>\n",
              "    <tr style=\"text-align: right;\">\n",
              "      <th></th>\n",
              "      <th>action</th>\n",
              "    </tr>\n",
              "    <tr>\n",
              "      <th>ad_id</th>\n",
              "      <th></th>\n",
              "    </tr>\n",
              "  </thead>\n",
              "  <tbody>\n",
              "    <tr>\n",
              "      <th>A</th>\n",
              "      <td>304</td>\n",
              "    </tr>\n",
              "    <tr>\n",
              "      <th>B</th>\n",
              "      <td>372</td>\n",
              "    </tr>\n",
              "  </tbody>\n",
              "</table>\n",
              "</div>\n",
              "      <button class=\"colab-df-convert\" onclick=\"convertToInteractive('df-a5699fdb-6bf2-453c-a07c-367f945abf92')\"\n",
              "              title=\"Convert this dataframe to an interactive table.\"\n",
              "              style=\"display:none;\">\n",
              "        \n",
              "  <svg xmlns=\"http://www.w3.org/2000/svg\" height=\"24px\"viewBox=\"0 0 24 24\"\n",
              "       width=\"24px\">\n",
              "    <path d=\"M0 0h24v24H0V0z\" fill=\"none\"/>\n",
              "    <path d=\"M18.56 5.44l.94 2.06.94-2.06 2.06-.94-2.06-.94-.94-2.06-.94 2.06-2.06.94zm-11 1L8.5 8.5l.94-2.06 2.06-.94-2.06-.94L8.5 2.5l-.94 2.06-2.06.94zm10 10l.94 2.06.94-2.06 2.06-.94-2.06-.94-.94-2.06-.94 2.06-2.06.94z\"/><path d=\"M17.41 7.96l-1.37-1.37c-.4-.4-.92-.59-1.43-.59-.52 0-1.04.2-1.43.59L10.3 9.45l-7.72 7.72c-.78.78-.78 2.05 0 2.83L4 21.41c.39.39.9.59 1.41.59.51 0 1.02-.2 1.41-.59l7.78-7.78 2.81-2.81c.8-.78.8-2.07 0-2.86zM5.41 20L4 18.59l7.72-7.72 1.47 1.35L5.41 20z\"/>\n",
              "  </svg>\n",
              "      </button>\n",
              "      \n",
              "  <style>\n",
              "    .colab-df-container {\n",
              "      display:flex;\n",
              "      flex-wrap:wrap;\n",
              "      gap: 12px;\n",
              "    }\n",
              "\n",
              "    .colab-df-convert {\n",
              "      background-color: #E8F0FE;\n",
              "      border: none;\n",
              "      border-radius: 50%;\n",
              "      cursor: pointer;\n",
              "      display: none;\n",
              "      fill: #1967D2;\n",
              "      height: 32px;\n",
              "      padding: 0 0 0 0;\n",
              "      width: 32px;\n",
              "    }\n",
              "\n",
              "    .colab-df-convert:hover {\n",
              "      background-color: #E2EBFA;\n",
              "      box-shadow: 0px 1px 2px rgba(60, 64, 67, 0.3), 0px 1px 3px 1px rgba(60, 64, 67, 0.15);\n",
              "      fill: #174EA6;\n",
              "    }\n",
              "\n",
              "    [theme=dark] .colab-df-convert {\n",
              "      background-color: #3B4455;\n",
              "      fill: #D2E3FC;\n",
              "    }\n",
              "\n",
              "    [theme=dark] .colab-df-convert:hover {\n",
              "      background-color: #434B5C;\n",
              "      box-shadow: 0px 1px 3px 1px rgba(0, 0, 0, 0.15);\n",
              "      filter: drop-shadow(0px 1px 2px rgba(0, 0, 0, 0.3));\n",
              "      fill: #FFFFFF;\n",
              "    }\n",
              "  </style>\n",
              "\n",
              "      <script>\n",
              "        const buttonEl =\n",
              "          document.querySelector('#df-a5699fdb-6bf2-453c-a07c-367f945abf92 button.colab-df-convert');\n",
              "        buttonEl.style.display =\n",
              "          google.colab.kernel.accessAllowed ? 'block' : 'none';\n",
              "\n",
              "        async function convertToInteractive(key) {\n",
              "          const element = document.querySelector('#df-a5699fdb-6bf2-453c-a07c-367f945abf92');\n",
              "          const dataTable =\n",
              "            await google.colab.kernel.invokeFunction('convertToInteractive',\n",
              "                                                     [key], {});\n",
              "          if (!dataTable) return;\n",
              "\n",
              "          const docLinkHtml = 'Like what you see? Visit the ' +\n",
              "            '<a target=\"_blank\" href=https://colab.research.google.com/notebooks/data_table.ipynb>data table notebook</a>'\n",
              "            + ' to learn more about interactive tables.';\n",
              "          element.innerHTML = '';\n",
              "          dataTable['output_type'] = 'display_data';\n",
              "          await google.colab.output.renderOutput(dataTable, element);\n",
              "          const docLink = document.createElement('div');\n",
              "          docLink.innerHTML = docLinkHtml;\n",
              "          element.appendChild(docLink);\n",
              "        }\n",
              "      </script>\n",
              "    </div>\n",
              "  </div>\n",
              "  "
            ]
          },
          "metadata": {},
          "execution_count": 15
        }
      ]
    },
    {
      "cell_type": "markdown",
      "source": [
        "Анонимная функция lambda\n",
        "\n",
        "Анонимные функции могут содержать лишь одно выражение, но и выполняются они быстрее. Анонимные функции создаются с помощью конструкции lambda. Кроме этого, их не обязательно присваивать переменной, как делали мы с конструкцией def func().\n",
        "\n",
        "Ниже пример:"
      ],
      "metadata": {
        "id": "Xk6r-X10YT71"
      }
    },
    {
      "cell_type": "code",
      "source": [
        "def length(x):\n",
        "    return len(x)\n",
        "\n",
        "lambda_def = lambda x: len(x)"
      ],
      "metadata": {
        "id": "OtXzK9T5YVS6"
      },
      "execution_count": null,
      "outputs": []
    },
    {
      "cell_type": "code",
      "source": [
        "ll = [1,2,3]\n",
        "print('Длина массива через def = ', length(ll))\n",
        "print('Длина массива через lambda = ', lambda_def(ll))"
      ],
      "metadata": {
        "colab": {
          "base_uri": "https://localhost:8080/"
        },
        "id": "_KUZpi69Yj9b",
        "outputId": "c8aff904-cd56-4839-a488-cc43bafb7f9a"
      },
      "execution_count": null,
      "outputs": [
        {
          "output_type": "stream",
          "name": "stdout",
          "text": [
            "Длина массива через def =  3\n",
            "Длина массива через lambda =  3\n"
          ]
        }
      ]
    },
    {
      "cell_type": "markdown",
      "source": [
        "Добавим к сводной таблице другие статистические характеристики:"
      ],
      "metadata": {
        "id": "DcI5E4T-a4BI"
      }
    },
    {
      "cell_type": "code",
      "source": [
        "summary_df['total_count'] = df.pivot_table(values='action', index='ad_id', aggfunc=lambda x: len(x))\n",
        "\n",
        "summary_df['conversion_rate'] = df.pivot_table(values='action', index='ad_id') #по-умолчанию среднее"
      ],
      "metadata": {
        "id": "aE-zNpoYa65e"
      },
      "execution_count": null,
      "outputs": []
    },
    {
      "cell_type": "markdown",
      "source": [
        "numpy.std(a, axis=None, dtype=None, out=None, ddof=0, keepdims=, *, where=) Compute the standard deviation along the specified axis. ddof - дельта степени свободы (принимаем за 0 без смещения, тк данная переменная - это делитель , используемый в вычислениях, равен N - ddof). Тк выборка большая, то значимость не придаем.\n",
        "\n",
        "https://numpy.org/doc/stable/reference/generated/numpy.std.html\n",
        "\n",
        "scipy.stats.sem (a, axis=0, ddof=1, nan_policy='propagate') Compute standard error of the mean. https://scipy.github.io/devdocs/reference/generated/scipy.stats.sem.html?highlight=sem#scipy.stats.sem"
      ],
      "metadata": {
        "id": "KL4V06UlbDMz"
      }
    },
    {
      "cell_type": "code",
      "source": [
        "summary_df['std_p'] = df.pivot_table(values='action', index='ad_id', aggfunc = lambda x: np.std(x, ddof=0))\n",
        "summary_df['se_p'] = df.pivot_table(values='action', index='ad_id', aggfunc = lambda x: stats.sem(x, ddof=0))"
      ],
      "metadata": {
        "id": "T-A2hEXgbEVO"
      },
      "execution_count": null,
      "outputs": []
    },
    {
      "cell_type": "code",
      "source": [
        "summary_df"
      ],
      "metadata": {
        "colab": {
          "base_uri": "https://localhost:8080/",
          "height": 143
        },
        "id": "Fhnsw_K8bLeQ",
        "outputId": "6ab7fe20-4c00-4224-bb86-85a4f6ae6e9e"
      },
      "execution_count": null,
      "outputs": [
        {
          "output_type": "execute_result",
          "data": {
            "text/plain": [
              "       action  total_count  conversion_rate     std_p      se_p\n",
              "ad_id                                                          \n",
              "A         304         1000            0.304  0.459983  0.014546\n",
              "B         372         1000            0.372  0.483338  0.015285"
            ],
            "text/html": [
              "\n",
              "  <div id=\"df-f8e69e49-71d4-4759-8e77-373df769835d\">\n",
              "    <div class=\"colab-df-container\">\n",
              "      <div>\n",
              "<style scoped>\n",
              "    .dataframe tbody tr th:only-of-type {\n",
              "        vertical-align: middle;\n",
              "    }\n",
              "\n",
              "    .dataframe tbody tr th {\n",
              "        vertical-align: top;\n",
              "    }\n",
              "\n",
              "    .dataframe thead th {\n",
              "        text-align: right;\n",
              "    }\n",
              "</style>\n",
              "<table border=\"1\" class=\"dataframe\">\n",
              "  <thead>\n",
              "    <tr style=\"text-align: right;\">\n",
              "      <th></th>\n",
              "      <th>action</th>\n",
              "      <th>total_count</th>\n",
              "      <th>conversion_rate</th>\n",
              "      <th>std_p</th>\n",
              "      <th>se_p</th>\n",
              "    </tr>\n",
              "    <tr>\n",
              "      <th>ad_id</th>\n",
              "      <th></th>\n",
              "      <th></th>\n",
              "      <th></th>\n",
              "      <th></th>\n",
              "      <th></th>\n",
              "    </tr>\n",
              "  </thead>\n",
              "  <tbody>\n",
              "    <tr>\n",
              "      <th>A</th>\n",
              "      <td>304</td>\n",
              "      <td>1000</td>\n",
              "      <td>0.304</td>\n",
              "      <td>0.459983</td>\n",
              "      <td>0.014546</td>\n",
              "    </tr>\n",
              "    <tr>\n",
              "      <th>B</th>\n",
              "      <td>372</td>\n",
              "      <td>1000</td>\n",
              "      <td>0.372</td>\n",
              "      <td>0.483338</td>\n",
              "      <td>0.015285</td>\n",
              "    </tr>\n",
              "  </tbody>\n",
              "</table>\n",
              "</div>\n",
              "      <button class=\"colab-df-convert\" onclick=\"convertToInteractive('df-f8e69e49-71d4-4759-8e77-373df769835d')\"\n",
              "              title=\"Convert this dataframe to an interactive table.\"\n",
              "              style=\"display:none;\">\n",
              "        \n",
              "  <svg xmlns=\"http://www.w3.org/2000/svg\" height=\"24px\"viewBox=\"0 0 24 24\"\n",
              "       width=\"24px\">\n",
              "    <path d=\"M0 0h24v24H0V0z\" fill=\"none\"/>\n",
              "    <path d=\"M18.56 5.44l.94 2.06.94-2.06 2.06-.94-2.06-.94-.94-2.06-.94 2.06-2.06.94zm-11 1L8.5 8.5l.94-2.06 2.06-.94-2.06-.94L8.5 2.5l-.94 2.06-2.06.94zm10 10l.94 2.06.94-2.06 2.06-.94-2.06-.94-.94-2.06-.94 2.06-2.06.94z\"/><path d=\"M17.41 7.96l-1.37-1.37c-.4-.4-.92-.59-1.43-.59-.52 0-1.04.2-1.43.59L10.3 9.45l-7.72 7.72c-.78.78-.78 2.05 0 2.83L4 21.41c.39.39.9.59 1.41.59.51 0 1.02-.2 1.41-.59l7.78-7.78 2.81-2.81c.8-.78.8-2.07 0-2.86zM5.41 20L4 18.59l7.72-7.72 1.47 1.35L5.41 20z\"/>\n",
              "  </svg>\n",
              "      </button>\n",
              "      \n",
              "  <style>\n",
              "    .colab-df-container {\n",
              "      display:flex;\n",
              "      flex-wrap:wrap;\n",
              "      gap: 12px;\n",
              "    }\n",
              "\n",
              "    .colab-df-convert {\n",
              "      background-color: #E8F0FE;\n",
              "      border: none;\n",
              "      border-radius: 50%;\n",
              "      cursor: pointer;\n",
              "      display: none;\n",
              "      fill: #1967D2;\n",
              "      height: 32px;\n",
              "      padding: 0 0 0 0;\n",
              "      width: 32px;\n",
              "    }\n",
              "\n",
              "    .colab-df-convert:hover {\n",
              "      background-color: #E2EBFA;\n",
              "      box-shadow: 0px 1px 2px rgba(60, 64, 67, 0.3), 0px 1px 3px 1px rgba(60, 64, 67, 0.15);\n",
              "      fill: #174EA6;\n",
              "    }\n",
              "\n",
              "    [theme=dark] .colab-df-convert {\n",
              "      background-color: #3B4455;\n",
              "      fill: #D2E3FC;\n",
              "    }\n",
              "\n",
              "    [theme=dark] .colab-df-convert:hover {\n",
              "      background-color: #434B5C;\n",
              "      box-shadow: 0px 1px 3px 1px rgba(0, 0, 0, 0.15);\n",
              "      filter: drop-shadow(0px 1px 2px rgba(0, 0, 0, 0.3));\n",
              "      fill: #FFFFFF;\n",
              "    }\n",
              "  </style>\n",
              "\n",
              "      <script>\n",
              "        const buttonEl =\n",
              "          document.querySelector('#df-f8e69e49-71d4-4759-8e77-373df769835d button.colab-df-convert');\n",
              "        buttonEl.style.display =\n",
              "          google.colab.kernel.accessAllowed ? 'block' : 'none';\n",
              "\n",
              "        async function convertToInteractive(key) {\n",
              "          const element = document.querySelector('#df-f8e69e49-71d4-4759-8e77-373df769835d');\n",
              "          const dataTable =\n",
              "            await google.colab.kernel.invokeFunction('convertToInteractive',\n",
              "                                                     [key], {});\n",
              "          if (!dataTable) return;\n",
              "\n",
              "          const docLinkHtml = 'Like what you see? Visit the ' +\n",
              "            '<a target=\"_blank\" href=https://colab.research.google.com/notebooks/data_table.ipynb>data table notebook</a>'\n",
              "            + ' to learn more about interactive tables.';\n",
              "          element.innerHTML = '';\n",
              "          dataTable['output_type'] = 'display_data';\n",
              "          await google.colab.output.renderOutput(dataTable, element);\n",
              "          const docLink = document.createElement('div');\n",
              "          docLink.innerHTML = docLinkHtml;\n",
              "          element.appendChild(docLink);\n",
              "        }\n",
              "      </script>\n",
              "    </div>\n",
              "  </div>\n",
              "  "
            ]
          },
          "metadata": {},
          "execution_count": 21
        }
      ]
    },
    {
      "cell_type": "markdown",
      "source": [
        "Промежуточные выводы:\n",
        "\n",
        "1.Дизайн рекламы B лучше, чем A (conversion_rate B > conversion_rate A)\n",
        "\n",
        "2.Отрисуем данную пропорциональность на графике ниже"
      ],
      "metadata": {
        "id": "lK2ioNs3bQGO"
      }
    },
    {
      "cell_type": "markdown",
      "source": [
        "4. Визуализация промежуточных выводов\n",
        "\n",
        "seaborn.barplot(, x=None, y=None, hue=None, data=None, order=None, hue_order=None, estimator=<function mean at 0x7ff320f315e0>, ci=95, n_boot=1000, units=None, seed=None, orient=None, color=None, palette=None, saturation=0.75, errcolor='.26', errwidth=None, capsize=None, dodge=True, ax=None, *kwargs)\n",
        "\n",
        "https://seaborn.pydata.org/generated/seaborn.barplot.html?highlight=barplot#seaborn.barplot"
      ],
      "metadata": {
        "id": "_c-8It7gboc6"
      }
    },
    {
      "cell_type": "code",
      "source": [
        "plt.figure(figsize=(8,6))\n",
        "\n",
        "sns.barplot(x=df['ad_id'], y=df['action'])\n",
        "\n",
        "plt.title('Коэф-т конверсии для каждой группы')\n",
        "plt.xlabel('Группа')\n",
        "plt.ylabel('Коэф-т конверсии')"
      ],
      "metadata": {
        "colab": {
          "base_uri": "https://localhost:8080/",
          "height": 421
        },
        "id": "1leHU8wabr7x",
        "outputId": "5b85aa79-95ee-451e-a123-f86dffca5ac0"
      },
      "execution_count": null,
      "outputs": [
        {
          "output_type": "execute_result",
          "data": {
            "text/plain": [
              "Text(0, 0.5, 'Коэф-т конверсии')"
            ]
          },
          "metadata": {},
          "execution_count": 22
        },
        {
          "output_type": "display_data",
          "data": {
            "text/plain": [
              "<Figure size 576x432 with 1 Axes>"
            ],
            "image/png": "[encoded data removed]"
          },
          "metadata": {
            "needs_background": "light"
          }
        }
      ]
    },
    {
      "cell_type": "markdown",
      "source": [
        "Промежуточные выводы:\n",
        "\n",
        "Статистически ли значима данная разница?"
      ],
      "metadata": {
        "id": "ldBGI9m1b846"
      }
    },
    {
      "cell_type": "markdown",
      "source": [
        "5. Проверка гипотезы\n",
        "\n",
        "Используем критерий Z-статистики для конверсии\n",
        "Пришло время оценить, насколько разница в конверсии, которую мы получили на собранных данных, статистически значима. То есть, можем ли мы быть уверены, что разница, которую мы наблюдаем — неслучайная.\n",
        "\n",
        "Для такого анализа используют статистические критерии — они бывают разными для разных данных.\n",
        "\n",
        "Z-статистика — критерий, который подходит для оценки конверсии, поскольку данные конверсии дискретные: пользователь либо совершил покупку, и мы присвоили ему 1, либо не совершил и мы присвоили ему 0.\n",
        "\n",
        "Функция, которая нам нужна, чтобы использовать Z-статистику, есть в библиотеке — statsmodels. Мы импортируем из нее объект stats.proportion, который позволяет считать пропорции."
      ],
      "metadata": {
        "id": "FYh0_bp9cAnD"
      }
    },
    {
      "cell_type": "code",
      "source": [
        "from statsmodels.stats.proportion import proportions_ztest, proportion_confint"
      ],
      "metadata": {
        "id": "osw0Ferob-Dz"
      },
      "execution_count": null,
      "outputs": []
    },
    {
      "cell_type": "code",
      "source": [
        "control_results = df[df['ad_id'] == 'A']['action']\n",
        "test_results = df[df['ad_id'] == 'B']['action']"
      ],
      "metadata": {
        "id": "lWlExVQ1ckYr"
      },
      "execution_count": null,
      "outputs": []
    },
    {
      "cell_type": "markdown",
      "source": [
        "Статистический критерий вернет нам значение p-value, которое поможет оценить: есть ли статистическая значимость в разнице конверсий, которую показывает наш эксперимент.\n",
        "\n",
        "Посчитаем p-value\n",
        "\n",
        "Передаем функции proportions_ztest параметры:\n",
        "\n",
        "1.Количество покупок в наших группах — значения колонки successes\n",
        "\n",
        "2.Количество наблюдений — всех пользователей из колонки nobs\n",
        "\n",
        "Так как функция возврщает три значения, мы сразу создадим три переменные через запятую:\n",
        "\n",
        "-- z_stat — статистика под капотом критерия\n",
        "\n",
        "-- pval — интересующее нас значение p-value\n",
        "\n",
        "-- table — таблица сопряженности: она помогает исследовать связи в распределениях, но в данной задаче она нам не понадобится"
      ],
      "metadata": {
        "id": "5I4klpfacrQh"
      }
    },
    {
      "cell_type": "code",
      "source": [
        "nobs = [control_results.count(), test_results.count()]\n",
        "successes = [control_results.sum(), test_results.sum()]\n",
        "z_stat, pval = proportions_ztest(successes, nobs)\n",
        "\n",
        "print('z statistic:', z_stat)\n",
        "print('p-value:', pval)"
      ],
      "metadata": {
        "colab": {
          "base_uri": "https://localhost:8080/"
        },
        "id": "cNpzy4EidHKM",
        "outputId": "46db8eb0-f9e9-4f68-f523-f0b70bce3607"
      },
      "execution_count": null,
      "outputs": [
        {
          "output_type": "stream",
          "name": "stdout",
          "text": [
            "z statistic: -3.2144492244084213\n",
            "p-value: 0.0013069502732125403\n"
          ]
        }
      ]
    },
    {
      "cell_type": "markdown",
      "source": [
        "Так как ни один статистический критерий не дает 100% уверенности, мы зададим ему порог 5% для ошибки первого рода — то есть согласимся, что 5% наших наблюдений будут ошибочными."
      ],
      "metadata": {
        "id": "4cweyfK5dZcb"
      }
    },
    {
      "cell_type": "code",
      "source": [
        "alpha = 0.05"
      ],
      "metadata": {
        "id": "yACBqgXXde0g"
      },
      "execution_count": null,
      "outputs": []
    },
    {
      "cell_type": "markdown",
      "source": [
        "p-value — это фактическая вероятность попасть в ошибку первого рода на наших данных, если мы отклоним нулевую гипотезу. Давайте сравним p-value c желаемым уровнем точности нашего эксперимента.\n",
        "\n",
        "--Если p-value меньше порога ошибки первого рода — результат эксперимента можно считать статзначимым\n",
        "\n",
        "--Если p-value больше — мы будем вынуждены признать разницу в значениях тестовой и контрольной группы случайной"
      ],
      "metadata": {
        "id": "JWKaKyftdiKI"
      }
    },
    {
      "cell_type": "code",
      "source": [
        "print(pval < alpha)"
      ],
      "metadata": {
        "colab": {
          "base_uri": "https://localhost:8080/"
        },
        "id": "7fytcQRfdnuZ",
        "outputId": "8aaef351-41ce-46be-f26d-fd7d7ff419ad"
      },
      "execution_count": null,
      "outputs": [
        {
          "output_type": "stream",
          "name": "stdout",
          "text": [
            "True\n"
          ]
        }
      ]
    },
    {
      "cell_type": "markdown",
      "source": [
        "Промежуточные выводы:\n",
        "\n",
        "1. Тк p-value < 0.05, то отклоняем нулевую гипотезу, что означает - новый дизайн рекламы работал значительно иначе, чем старый\n",
        "2. Если посмотрим на доверительные интервалы, то для нового дизайна В конверсия включает/не включает таргет и базовое значение коэф-та конверсии\n",
        "\n",
        "Для расчета доверительных интервалов воспользуемся методом proportion_confint"
      ],
      "metadata": {
        "id": "HLYzro60d75u"
      }
    },
    {
      "cell_type": "code",
      "source": [
        "(lower_con, lower_test), (upper_con, upper_test) = proportion_confint(successes, nobs=nobs, alpha=alpha)\n",
        "\n",
        "print('Доверительный интервал для контрольной группы A:', lower_con, ' - ', upper_con)\n",
        "print('Доверительный интервал для тестовой группы B:', lower_test, ' - ', upper_test)"
      ],
      "metadata": {
        "colab": {
          "base_uri": "https://localhost:8080/"
        },
        "id": "29PyrO7neG0B",
        "outputId": "97f7266f-7199-4fa1-ada0-7825bf0fa75d"
      },
      "execution_count": null,
      "outputs": [
        {
          "output_type": "stream",
          "name": "stdout",
          "text": [
            "Доверительный интервал для контрольной группы A: 0.2754905064387712  -  0.3325094935612288\n",
            "Доверительный интервал для тестовой группы B: 0.3420429266473629  -  0.4019570733526371\n"
          ]
        }
      ]
    },
    {
      "cell_type": "markdown",
      "source": [
        "Промежуточные выводы:\n",
        "\n",
        "3. В результате нового дизайна B, можем ждать улучшений до 40% (подъем максимум на 10%) - новый дизайн даст улучшения"
      ],
      "metadata": {
        "id": "m0rH8xnheRjV"
      }
    },
    {
      "cell_type": "markdown",
      "source": [
        "AB тестирование на реальном датасете"
      ],
      "metadata": {
        "id": "AynNoJ82is0j"
      }
    },
    {
      "cell_type": "code",
      "source": [
        "data = pd.read_csv('ab_data.csv', index_col = 0)"
      ],
      "metadata": {
        "id": "MSf5czBheXBH"
      },
      "execution_count": null,
      "outputs": []
    },
    {
      "cell_type": "code",
      "source": [
        "data.head()"
      ],
      "metadata": {
        "colab": {
          "base_uri": "https://localhost:8080/",
          "height": 206
        },
        "id": "qc_nowFwjECd",
        "outputId": "f41d4c8d-3ff9-4ac4-97cb-07cce0369dd0"
      },
      "execution_count": null,
      "outputs": [
        {
          "output_type": "execute_result",
          "data": {
            "text/plain": [
              "       user_id test_group  created_order_in_3_days     order_sum geo_group  \\\n",
              "39152  1005040    control                        1   5194.269328       msk   \n",
              "19680  1069723       test                        0           NaN       msk   \n",
              "6738   1064653       test                        0           NaN       msk   \n",
              "12480  1063744       test                        1  18940.000000       msk   \n",
              "6626   1022929    control                        0           NaN       spb   \n",
              "\n",
              "      marketing_group  \n",
              "39152   target_direct  \n",
              "19680   target_direct  \n",
              "6738    target_direct  \n",
              "12480         organic  \n",
              "6626     social_media  "
            ],
            "text/html": [
              "\n",
              "  <div id=\"df-6ff720b0-6ffb-4c78-b3a3-54b6a5d7d13c\">\n",
              "    <div class=\"colab-df-container\">\n",
              "      <div>\n",
              "<style scoped>\n",
              "    .dataframe tbody tr th:only-of-type {\n",
              "        vertical-align: middle;\n",
              "    }\n",
              "\n",
              "    .dataframe tbody tr th {\n",
              "        vertical-align: top;\n",
              "    }\n",
              "\n",
              "    .dataframe thead th {\n",
              "        text-align: right;\n",
              "    }\n",
              "</style>\n",
              "<table border=\"1\" class=\"dataframe\">\n",
              "  <thead>\n",
              "    <tr style=\"text-align: right;\">\n",
              "      <th></th>\n",
              "      <th>user_id</th>\n",
              "      <th>test_group</th>\n",
              "      <th>created_order_in_3_days</th>\n",
              "      <th>order_sum</th>\n",
              "      <th>geo_group</th>\n",
              "      <th>marketing_group</th>\n",
              "    </tr>\n",
              "  </thead>\n",
              "  <tbody>\n",
              "    <tr>\n",
              "      <th>39152</th>\n",
              "      <td>1005040</td>\n",
              "      <td>control</td>\n",
              "      <td>1</td>\n",
              "      <td>5194.269328</td>\n",
              "      <td>msk</td>\n",
              "      <td>target_direct</td>\n",
              "    </tr>\n",
              "    <tr>\n",
              "      <th>19680</th>\n",
              "      <td>1069723</td>\n",
              "      <td>test</td>\n",
              "      <td>0</td>\n",
              "      <td>NaN</td>\n",
              "      <td>msk</td>\n",
              "      <td>target_direct</td>\n",
              "    </tr>\n",
              "    <tr>\n",
              "      <th>6738</th>\n",
              "      <td>1064653</td>\n",
              "      <td>test</td>\n",
              "      <td>0</td>\n",
              "      <td>NaN</td>\n",
              "      <td>msk</td>\n",
              "      <td>target_direct</td>\n",
              "    </tr>\n",
              "    <tr>\n",
              "      <th>12480</th>\n",
              "      <td>1063744</td>\n",
              "      <td>test</td>\n",
              "      <td>1</td>\n",
              "      <td>18940.000000</td>\n",
              "      <td>msk</td>\n",
              "      <td>organic</td>\n",
              "    </tr>\n",
              "    <tr>\n",
              "      <th>6626</th>\n",
              "      <td>1022929</td>\n",
              "      <td>control</td>\n",
              "      <td>0</td>\n",
              "      <td>NaN</td>\n",
              "      <td>spb</td>\n",
              "      <td>social_media</td>\n",
              "    </tr>\n",
              "  </tbody>\n",
              "</table>\n",
              "</div>\n",
              "      <button class=\"colab-df-convert\" onclick=\"convertToInteractive('df-6ff720b0-6ffb-4c78-b3a3-54b6a5d7d13c')\"\n",
              "              title=\"Convert this dataframe to an interactive table.\"\n",
              "              style=\"display:none;\">\n",
              "        \n",
              "  <svg xmlns=\"http://www.w3.org/2000/svg\" height=\"24px\"viewBox=\"0 0 24 24\"\n",
              "       width=\"24px\">\n",
              "    <path d=\"M0 0h24v24H0V0z\" fill=\"none\"/>\n",
              "    <path d=\"M18.56 5.44l.94 2.06.94-2.06 2.06-.94-2.06-.94-.94-2.06-.94 2.06-2.06.94zm-11 1L8.5 8.5l.94-2.06 2.06-.94-2.06-.94L8.5 2.5l-.94 2.06-2.06.94zm10 10l.94 2.06.94-2.06 2.06-.94-2.06-.94-.94-2.06-.94 2.06-2.06.94z\"/><path d=\"M17.41 7.96l-1.37-1.37c-.4-.4-.92-.59-1.43-.59-.52 0-1.04.2-1.43.59L10.3 9.45l-7.72 7.72c-.78.78-.78 2.05 0 2.83L4 21.41c.39.39.9.59 1.41.59.51 0 1.02-.2 1.41-.59l7.78-7.78 2.81-2.81c.8-.78.8-2.07 0-2.86zM5.41 20L4 18.59l7.72-7.72 1.47 1.35L5.41 20z\"/>\n",
              "  </svg>\n",
              "      </button>\n",
              "      \n",
              "  <style>\n",
              "    .colab-df-container {\n",
              "      display:flex;\n",
              "      flex-wrap:wrap;\n",
              "      gap: 12px;\n",
              "    }\n",
              "\n",
              "    .colab-df-convert {\n",
              "      background-color: #E8F0FE;\n",
              "      border: none;\n",
              "      border-radius: 50%;\n",
              "      cursor: pointer;\n",
              "      display: none;\n",
              "      fill: #1967D2;\n",
              "      height: 32px;\n",
              "      padding: 0 0 0 0;\n",
              "      width: 32px;\n",
              "    }\n",
              "\n",
              "    .colab-df-convert:hover {\n",
              "      background-color: #E2EBFA;\n",
              "      box-shadow: 0px 1px 2px rgba(60, 64, 67, 0.3), 0px 1px 3px 1px rgba(60, 64, 67, 0.15);\n",
              "      fill: #174EA6;\n",
              "    }\n",
              "\n",
              "    [theme=dark] .colab-df-convert {\n",
              "      background-color: #3B4455;\n",
              "      fill: #D2E3FC;\n",
              "    }\n",
              "\n",
              "    [theme=dark] .colab-df-convert:hover {\n",
              "      background-color: #434B5C;\n",
              "      box-shadow: 0px 1px 3px 1px rgba(0, 0, 0, 0.15);\n",
              "      filter: drop-shadow(0px 1px 2px rgba(0, 0, 0, 0.3));\n",
              "      fill: #FFFFFF;\n",
              "    }\n",
              "  </style>\n",
              "\n",
              "      <script>\n",
              "        const buttonEl =\n",
              "          document.querySelector('#df-6ff720b0-6ffb-4c78-b3a3-54b6a5d7d13c button.colab-df-convert');\n",
              "        buttonEl.style.display =\n",
              "          google.colab.kernel.accessAllowed ? 'block' : 'none';\n",
              "\n",
              "        async function convertToInteractive(key) {\n",
              "          const element = document.querySelector('#df-6ff720b0-6ffb-4c78-b3a3-54b6a5d7d13c');\n",
              "          const dataTable =\n",
              "            await google.colab.kernel.invokeFunction('convertToInteractive',\n",
              "                                                     [key], {});\n",
              "          if (!dataTable) return;\n",
              "\n",
              "          const docLinkHtml = 'Like what you see? Visit the ' +\n",
              "            '<a target=\"_blank\" href=https://colab.research.google.com/notebooks/data_table.ipynb>data table notebook</a>'\n",
              "            + ' to learn more about interactive tables.';\n",
              "          element.innerHTML = '';\n",
              "          dataTable['output_type'] = 'display_data';\n",
              "          await google.colab.output.renderOutput(dataTable, element);\n",
              "          const docLink = document.createElement('div');\n",
              "          docLink.innerHTML = docLinkHtml;\n",
              "          element.appendChild(docLink);\n",
              "        }\n",
              "      </script>\n",
              "    </div>\n",
              "  </div>\n",
              "  "
            ]
          },
          "metadata": {},
          "execution_count": 32
        }
      ]
    },
    {
      "cell_type": "markdown",
      "source": [
        "В колонке created_order_in_3_days\n",
        "\n",
        "--0 — для пользователей, которые ничего не купили в течение трех дней\n",
        "\n",
        "--1 — для тех, кто совершил покупку в отведенное окно конверсии\n",
        "\n",
        "order_sum - сумма покупки пользователя\n",
        "\n",
        "geo_group - из какой страны, города, района наши пользователи\n",
        "\n",
        "marketing_group - маркетиноговый канал привлечения: платный трафик, соцсети, органический, рекламная акция\n",
        "\n",
        "В колонке test_group у каждого пользователя проставлен статус: был он в тестовой группе или в контрольной.\n",
        "\n",
        "Посчитаем для каждой группы:\n",
        "\n",
        "--количество пользователей 'user_id': 'count'\n",
        "--сумма единиц — количество пользователей, которые совершили покупку в течении 3х дней 'created_order_in_3_days': 'sum'\n",
        "\n",
        "И добавим новый столбец с конверсией в обеих группах. Количество купивших разделим на общее количество в группе."
      ],
      "metadata": {
        "id": "FCC0OjMCjIUW"
      }
    },
    {
      "cell_type": "code",
      "source": [
        "metrics = data.groupby('test_group', as_index= False).agg({'user_id': 'count', 'created_order_in_3_days': 'sum'})\n",
        "metrics['conversion'] = round(metrics['created_order_in_3_days']/metrics['user_id']*100, 2)\n",
        "metrics"
      ],
      "metadata": {
        "colab": {
          "base_uri": "https://localhost:8080/",
          "height": 112
        },
        "id": "EttoPUa7jpAX",
        "outputId": "1c5889ba-dba9-4fc4-f9bf-824ac11580ae"
      },
      "execution_count": null,
      "outputs": [
        {
          "output_type": "execute_result",
          "data": {
            "text/plain": [
              "  test_group  user_id  created_order_in_3_days  conversion\n",
              "0    control     5062                     1594       31.49\n",
              "1       test     4938                     1583       32.06"
            ],
            "text/html": [
              "\n",
              "  <div id=\"df-ff80600f-5d15-44aa-bb29-d029145442bc\">\n",
              "    <div class=\"colab-df-container\">\n",
              "      <div>\n",
              "<style scoped>\n",
              "    .dataframe tbody tr th:only-of-type {\n",
              "        vertical-align: middle;\n",
              "    }\n",
              "\n",
              "    .dataframe tbody tr th {\n",
              "        vertical-align: top;\n",
              "    }\n",
              "\n",
              "    .dataframe thead th {\n",
              "        text-align: right;\n",
              "    }\n",
              "</style>\n",
              "<table border=\"1\" class=\"dataframe\">\n",
              "  <thead>\n",
              "    <tr style=\"text-align: right;\">\n",
              "      <th></th>\n",
              "      <th>test_group</th>\n",
              "      <th>user_id</th>\n",
              "      <th>created_order_in_3_days</th>\n",
              "      <th>conversion</th>\n",
              "    </tr>\n",
              "  </thead>\n",
              "  <tbody>\n",
              "    <tr>\n",
              "      <th>0</th>\n",
              "      <td>control</td>\n",
              "      <td>5062</td>\n",
              "      <td>1594</td>\n",
              "      <td>31.49</td>\n",
              "    </tr>\n",
              "    <tr>\n",
              "      <th>1</th>\n",
              "      <td>test</td>\n",
              "      <td>4938</td>\n",
              "      <td>1583</td>\n",
              "      <td>32.06</td>\n",
              "    </tr>\n",
              "  </tbody>\n",
              "</table>\n",
              "</div>\n",
              "      <button class=\"colab-df-convert\" onclick=\"convertToInteractive('df-ff80600f-5d15-44aa-bb29-d029145442bc')\"\n",
              "              title=\"Convert this dataframe to an interactive table.\"\n",
              "              style=\"display:none;\">\n",
              "        \n",
              "  <svg xmlns=\"http://www.w3.org/2000/svg\" height=\"24px\"viewBox=\"0 0 24 24\"\n",
              "       width=\"24px\">\n",
              "    <path d=\"M0 0h24v24H0V0z\" fill=\"none\"/>\n",
              "    <path d=\"M18.56 5.44l.94 2.06.94-2.06 2.06-.94-2.06-.94-.94-2.06-.94 2.06-2.06.94zm-11 1L8.5 8.5l.94-2.06 2.06-.94-2.06-.94L8.5 2.5l-.94 2.06-2.06.94zm10 10l.94 2.06.94-2.06 2.06-.94-2.06-.94-.94-2.06-.94 2.06-2.06.94z\"/><path d=\"M17.41 7.96l-1.37-1.37c-.4-.4-.92-.59-1.43-.59-.52 0-1.04.2-1.43.59L10.3 9.45l-7.72 7.72c-.78.78-.78 2.05 0 2.83L4 21.41c.39.39.9.59 1.41.59.51 0 1.02-.2 1.41-.59l7.78-7.78 2.81-2.81c.8-.78.8-2.07 0-2.86zM5.41 20L4 18.59l7.72-7.72 1.47 1.35L5.41 20z\"/>\n",
              "  </svg>\n",
              "      </button>\n",
              "      \n",
              "  <style>\n",
              "    .colab-df-container {\n",
              "      display:flex;\n",
              "      flex-wrap:wrap;\n",
              "      gap: 12px;\n",
              "    }\n",
              "\n",
              "    .colab-df-convert {\n",
              "      background-color: #E8F0FE;\n",
              "      border: none;\n",
              "      border-radius: 50%;\n",
              "      cursor: pointer;\n",
              "      display: none;\n",
              "      fill: #1967D2;\n",
              "      height: 32px;\n",
              "      padding: 0 0 0 0;\n",
              "      width: 32px;\n",
              "    }\n",
              "\n",
              "    .colab-df-convert:hover {\n",
              "      background-color: #E2EBFA;\n",
              "      box-shadow: 0px 1px 2px rgba(60, 64, 67, 0.3), 0px 1px 3px 1px rgba(60, 64, 67, 0.15);\n",
              "      fill: #174EA6;\n",
              "    }\n",
              "\n",
              "    [theme=dark] .colab-df-convert {\n",
              "      background-color: #3B4455;\n",
              "      fill: #D2E3FC;\n",
              "    }\n",
              "\n",
              "    [theme=dark] .colab-df-convert:hover {\n",
              "      background-color: #434B5C;\n",
              "      box-shadow: 0px 1px 3px 1px rgba(0, 0, 0, 0.15);\n",
              "      filter: drop-shadow(0px 1px 2px rgba(0, 0, 0, 0.3));\n",
              "      fill: #FFFFFF;\n",
              "    }\n",
              "  </style>\n",
              "\n",
              "      <script>\n",
              "        const buttonEl =\n",
              "          document.querySelector('#df-ff80600f-5d15-44aa-bb29-d029145442bc button.colab-df-convert');\n",
              "        buttonEl.style.display =\n",
              "          google.colab.kernel.accessAllowed ? 'block' : 'none';\n",
              "\n",
              "        async function convertToInteractive(key) {\n",
              "          const element = document.querySelector('#df-ff80600f-5d15-44aa-bb29-d029145442bc');\n",
              "          const dataTable =\n",
              "            await google.colab.kernel.invokeFunction('convertToInteractive',\n",
              "                                                     [key], {});\n",
              "          if (!dataTable) return;\n",
              "\n",
              "          const docLinkHtml = 'Like what you see? Visit the ' +\n",
              "            '<a target=\"_blank\" href=https://colab.research.google.com/notebooks/data_table.ipynb>data table notebook</a>'\n",
              "            + ' to learn more about interactive tables.';\n",
              "          element.innerHTML = '';\n",
              "          dataTable['output_type'] = 'display_data';\n",
              "          await google.colab.output.renderOutput(dataTable, element);\n",
              "          const docLink = document.createElement('div');\n",
              "          docLink.innerHTML = docLinkHtml;\n",
              "          element.appendChild(docLink);\n",
              "        }\n",
              "      </script>\n",
              "    </div>\n",
              "  </div>\n",
              "  "
            ]
          },
          "metadata": {},
          "execution_count": 33
        }
      ]
    },
    {
      "cell_type": "markdown",
      "source": [
        "Для простоты решения задачи будем считать, что пользователи в каждом сегменте распределены равномерно!\n",
        "\n",
        "Мы хотим быстро посмотреть распределение сегментов в обеих группах. Для этого напишем функцию, которая строит столбиковую диаграмму по сегментам для каждой группы.\n",
        "\n",
        "--по оси x график выводит сегмент, который мы передадим\n",
        "\n",
        "--по оси y график выводит количество пользователей\n",
        "\n",
        "--в данных мы сгруппируем количество пользователей по тестовой и контрольной группе"
      ],
      "metadata": {
        "id": "hWTnRrQrjyho"
      }
    },
    {
      "cell_type": "code",
      "source": [
        "def plot_segments_distribution(df, segment_columns, test_factor):\n",
        "    for segment in segment_columns:\n",
        "        aggregated_data = df.groupby(by = [test_factor, segment])['user_id'].count().reset_index()\n",
        "        sns.catplot(x = segment, \n",
        "                    y = 'user_id', \n",
        "                    hue = test_factor,\n",
        "                    data = aggregated_data, \n",
        "                    kind = \"bar\", \n",
        "                    height = 4,\n",
        "                    aspect = 1.5) "
      ],
      "metadata": {
        "id": "kYwxsAMQj5Zk"
      },
      "execution_count": null,
      "outputs": []
    },
    {
      "cell_type": "code",
      "source": [
        "plot_segments_distribution(data, [\"geo_group\", \"marketing_group\"], \"test_group\")"
      ],
      "metadata": {
        "colab": {
          "base_uri": "https://localhost:8080/",
          "height": 577
        },
        "id": "z8FU9HStkKik",
        "outputId": "5f9d3bd4-a991-4076-e4d6-1faa0d8e7b1e"
      },
      "execution_count": null,
      "outputs": [
        {
          "output_type": "display_data",
          "data": {
            "text/plain": [
              "<Figure size 502.5x288 with 1 Axes>"
            ],
            "image/png": "[encoded data removed]"
          },
          "metadata": {
            "needs_background": "light"
          }
        },
        {
          "output_type": "display_data",
          "data": {
            "text/plain": [
              "<Figure size 502.5x288 with 1 Axes>"
            ],
            "image/png": "[encoded data removed]"
          },
          "metadata": {
            "needs_background": "light"
          }
        }
      ]
    },
    {
      "cell_type": "markdown",
      "source": [
        "Используем критерий Хи-квадрат для конверсии\n",
        "Мы поняли, что собранные данные правильно распределены по сегментам. Теперь пришло время оценить, насколько разница в конверсии, которую мы получили на собранных данных, статистически значима. То есть, можем ли мы быть уверены, что разница, которую мы наблюдаем — неслучайная.\n",
        "\n",
        "Для такого анализа используют статистические критерии — они бывают разными для разных данных.\n",
        "\n",
        "Хи-квадрат — критерий, который подходит для оценки конверии, поскольку данные конверсии дискретные: пользователь либо совершил покупку, и мы присвоили ему 1, либо не совершил и мы присвоили ему 0.\n",
        "\n",
        "Функция, которая нам нужна, чтобы использовать хи-квадрат, есть в библиотеке — statsmodels. Мы импортируем из нее объект stats.proportion, который позволяет считать пропорции."
      ],
      "metadata": {
        "id": "OX2tFRJTkP6Y"
      }
    },
    {
      "cell_type": "code",
      "source": [
        "import statsmodels.stats.proportion as proportion"
      ],
      "metadata": {
        "id": "vSvLsZFfkV3f"
      },
      "execution_count": null,
      "outputs": []
    },
    {
      "cell_type": "markdown",
      "source": [
        "/usr/local/lib/python3.7/dist-packages/statsmodels/tools/_testing.py:19: FutureWarning: pandas.util.testing is deprecated. Use the functions in the public API at pandas.testing instead.\n",
        "  import pandas.util.testing as tm"
      ],
      "metadata": {
        "id": "ihKgGLEXnUQe"
      }
    },
    {
      "cell_type": "markdown",
      "source": [
        "Статистический критерий вернет нам значение p-value, которое поможет оценить: есть ли статистическая значимость в разнице конверсий, которую показывает наш эксперимент.\n",
        "\n",
        "Посчитаем p-value\n",
        "Передаем функции proportions_chisquare( ) параметры:\n",
        "\n",
        "Количество покупок в наших группах — значения колонки 'created_order_in_3_days'\n",
        "Количество наблюдений — всех пользователей из колонки 'user_id'\n",
        "Так как функция возврщает три значения, мы сразу создадим три переменные через запятую:\n",
        "\n",
        "chi2stat — статистика под капотом критерия\n",
        "pval — интересующее нас значение p-value\n",
        "table — таблица сопряженности: она помогает исследовать связи в распределениях, но в данной задаче она нам не понадобится"
      ],
      "metadata": {
        "id": "awa_nTBhnX6R"
      }
    },
    {
      "cell_type": "code",
      "source": [
        "chi2stat, pval, table = proportion.proportions_chisquare(metrics['created_order_in_3_days'], metrics['user_id'])"
      ],
      "metadata": {
        "id": "o84SOJIcnVyc"
      },
      "execution_count": null,
      "outputs": []
    },
    {
      "cell_type": "markdown",
      "source": [
        "Так как ни один статистический критерий не дает 100% уверенности, мы зададим ему порог 5% для ошибки первого рода — то есть согласимся, что 5% наших наблюдений будут ошибочными."
      ],
      "metadata": {
        "id": "KA4EEyYHn9IA"
      }
    },
    {
      "cell_type": "code",
      "source": [
        "alpha = 0.05"
      ],
      "metadata": {
        "id": "lmlTGJBOoAXy"
      },
      "execution_count": null,
      "outputs": []
    },
    {
      "cell_type": "markdown",
      "source": [
        "p-value — это фактическая вероятность попасть в ошибку первого рода на наших данных, если мы отклоним нулевую гипотезу. \n",
        "Давайте сравним p-value c желаемым уровнем точности нашего эксперимента.\n",
        "\n",
        "--Если p-value меньше порога ошибки первого рода — результат эксперимента можно считать статзначимым\n",
        "\n",
        "--Если p-value больше — мы будем вынуждены признать разницу в значениях тестовой и контрольной группы случайной"
      ],
      "metadata": {
        "id": "d22k6SVLoEaJ"
      }
    },
    {
      "cell_type": "code",
      "source": [
        "print(pval < alpha)"
      ],
      "metadata": {
        "colab": {
          "base_uri": "https://localhost:8080/"
        },
        "id": "8lwLu9VvoS-B",
        "outputId": "cc7de832-cce0-4f2f-d07a-dbc8791720be"
      },
      "execution_count": null,
      "outputs": [
        {
          "output_type": "stream",
          "name": "stdout",
          "text": [
            "False\n"
          ]
        }
      ]
    },
    {
      "cell_type": "markdown",
      "source": [
        "Используем критерий Z-статистики для конверсии"
      ],
      "metadata": {
        "id": "e2hxOkbvoWyJ"
      }
    },
    {
      "cell_type": "code",
      "source": [
        "metrics"
      ],
      "metadata": {
        "colab": {
          "base_uri": "https://localhost:8080/",
          "height": 112
        },
        "id": "COCxF3dWoaVt",
        "outputId": "24986df1-f26a-42f1-d72c-d36a1b3a244f"
      },
      "execution_count": null,
      "outputs": [
        {
          "output_type": "execute_result",
          "data": {
            "text/plain": [
              "  test_group  user_id  created_order_in_3_days  conversion\n",
              "0    control     5062                     1594       31.49\n",
              "1       test     4938                     1583       32.06"
            ],
            "text/html": [
              "\n",
              "  <div id=\"df-b0b5ab52-13be-42de-888f-13feb32fe219\">\n",
              "    <div class=\"colab-df-container\">\n",
              "      <div>\n",
              "<style scoped>\n",
              "    .dataframe tbody tr th:only-of-type {\n",
              "        vertical-align: middle;\n",
              "    }\n",
              "\n",
              "    .dataframe tbody tr th {\n",
              "        vertical-align: top;\n",
              "    }\n",
              "\n",
              "    .dataframe thead th {\n",
              "        text-align: right;\n",
              "    }\n",
              "</style>\n",
              "<table border=\"1\" class=\"dataframe\">\n",
              "  <thead>\n",
              "    <tr style=\"text-align: right;\">\n",
              "      <th></th>\n",
              "      <th>test_group</th>\n",
              "      <th>user_id</th>\n",
              "      <th>created_order_in_3_days</th>\n",
              "      <th>conversion</th>\n",
              "    </tr>\n",
              "  </thead>\n",
              "  <tbody>\n",
              "    <tr>\n",
              "      <th>0</th>\n",
              "      <td>control</td>\n",
              "      <td>5062</td>\n",
              "      <td>1594</td>\n",
              "      <td>31.49</td>\n",
              "    </tr>\n",
              "    <tr>\n",
              "      <th>1</th>\n",
              "      <td>test</td>\n",
              "      <td>4938</td>\n",
              "      <td>1583</td>\n",
              "      <td>32.06</td>\n",
              "    </tr>\n",
              "  </tbody>\n",
              "</table>\n",
              "</div>\n",
              "      <button class=\"colab-df-convert\" onclick=\"convertToInteractive('df-b0b5ab52-13be-42de-888f-13feb32fe219')\"\n",
              "              title=\"Convert this dataframe to an interactive table.\"\n",
              "              style=\"display:none;\">\n",
              "        \n",
              "  <svg xmlns=\"http://www.w3.org/2000/svg\" height=\"24px\"viewBox=\"0 0 24 24\"\n",
              "       width=\"24px\">\n",
              "    <path d=\"M0 0h24v24H0V0z\" fill=\"none\"/>\n",
              "    <path d=\"M18.56 5.44l.94 2.06.94-2.06 2.06-.94-2.06-.94-.94-2.06-.94 2.06-2.06.94zm-11 1L8.5 8.5l.94-2.06 2.06-.94-2.06-.94L8.5 2.5l-.94 2.06-2.06.94zm10 10l.94 2.06.94-2.06 2.06-.94-2.06-.94-.94-2.06-.94 2.06-2.06.94z\"/><path d=\"M17.41 7.96l-1.37-1.37c-.4-.4-.92-.59-1.43-.59-.52 0-1.04.2-1.43.59L10.3 9.45l-7.72 7.72c-.78.78-.78 2.05 0 2.83L4 21.41c.39.39.9.59 1.41.59.51 0 1.02-.2 1.41-.59l7.78-7.78 2.81-2.81c.8-.78.8-2.07 0-2.86zM5.41 20L4 18.59l7.72-7.72 1.47 1.35L5.41 20z\"/>\n",
              "  </svg>\n",
              "      </button>\n",
              "      \n",
              "  <style>\n",
              "    .colab-df-container {\n",
              "      display:flex;\n",
              "      flex-wrap:wrap;\n",
              "      gap: 12px;\n",
              "    }\n",
              "\n",
              "    .colab-df-convert {\n",
              "      background-color: #E8F0FE;\n",
              "      border: none;\n",
              "      border-radius: 50%;\n",
              "      cursor: pointer;\n",
              "      display: none;\n",
              "      fill: #1967D2;\n",
              "      height: 32px;\n",
              "      padding: 0 0 0 0;\n",
              "      width: 32px;\n",
              "    }\n",
              "\n",
              "    .colab-df-convert:hover {\n",
              "      background-color: #E2EBFA;\n",
              "      box-shadow: 0px 1px 2px rgba(60, 64, 67, 0.3), 0px 1px 3px 1px rgba(60, 64, 67, 0.15);\n",
              "      fill: #174EA6;\n",
              "    }\n",
              "\n",
              "    [theme=dark] .colab-df-convert {\n",
              "      background-color: #3B4455;\n",
              "      fill: #D2E3FC;\n",
              "    }\n",
              "\n",
              "    [theme=dark] .colab-df-convert:hover {\n",
              "      background-color: #434B5C;\n",
              "      box-shadow: 0px 1px 3px 1px rgba(0, 0, 0, 0.15);\n",
              "      filter: drop-shadow(0px 1px 2px rgba(0, 0, 0, 0.3));\n",
              "      fill: #FFFFFF;\n",
              "    }\n",
              "  </style>\n",
              "\n",
              "      <script>\n",
              "        const buttonEl =\n",
              "          document.querySelector('#df-b0b5ab52-13be-42de-888f-13feb32fe219 button.colab-df-convert');\n",
              "        buttonEl.style.display =\n",
              "          google.colab.kernel.accessAllowed ? 'block' : 'none';\n",
              "\n",
              "        async function convertToInteractive(key) {\n",
              "          const element = document.querySelector('#df-b0b5ab52-13be-42de-888f-13feb32fe219');\n",
              "          const dataTable =\n",
              "            await google.colab.kernel.invokeFunction('convertToInteractive',\n",
              "                                                     [key], {});\n",
              "          if (!dataTable) return;\n",
              "\n",
              "          const docLinkHtml = 'Like what you see? Visit the ' +\n",
              "            '<a target=\"_blank\" href=https://colab.research.google.com/notebooks/data_table.ipynb>data table notebook</a>'\n",
              "            + ' to learn more about interactive tables.';\n",
              "          element.innerHTML = '';\n",
              "          dataTable['output_type'] = 'display_data';\n",
              "          await google.colab.output.renderOutput(dataTable, element);\n",
              "          const docLink = document.createElement('div');\n",
              "          docLink.innerHTML = docLinkHtml;\n",
              "          element.appendChild(docLink);\n",
              "        }\n",
              "      </script>\n",
              "    </div>\n",
              "  </div>\n",
              "  "
            ]
          },
          "metadata": {},
          "execution_count": 44
        }
      ]
    },
    {
      "cell_type": "code",
      "source": [
        "z_stat, pval = proportion.proportions_ztest(metrics['created_order_in_3_days'], metrics['user_id'])\n",
        "\n",
        "print('z statistic:', z_stat)\n",
        "print('p-value:', pval)"
      ],
      "metadata": {
        "colab": {
          "base_uri": "https://localhost:8080/"
        },
        "id": "-jYsbfsNofmg",
        "outputId": "4e04c7bb-6699-432b-84ba-6f771e4f78b9"
      },
      "execution_count": null,
      "outputs": [
        {
          "output_type": "stream",
          "name": "stdout",
          "text": [
            "z statistic: -0.6099242658711096\n",
            "p-value: 0.5419119772353791\n"
          ]
        }
      ]
    },
    {
      "cell_type": "code",
      "source": [
        "print(pval < alpha)"
      ],
      "metadata": {
        "colab": {
          "base_uri": "https://localhost:8080/"
        },
        "id": "sNf2swWook6A",
        "outputId": "92f0db52-812a-44e3-a042-ce062f19e1b6"
      },
      "execution_count": null,
      "outputs": [
        {
          "output_type": "stream",
          "name": "stdout",
          "text": [
            "False\n"
          ]
        }
      ]
    },
    {
      "cell_type": "markdown",
      "source": [
        "Статистически значимой разницы в конверсии не обнаружено, так как p-value выше выбранного порога ошибки первого рода"
      ],
      "metadata": {
        "id": "VbwOi5Teopgg"
      }
    },
    {
      "cell_type": "code",
      "source": [
        "data.head()"
      ],
      "metadata": {
        "colab": {
          "base_uri": "https://localhost:8080/",
          "height": 206
        },
        "id": "Qr7I6zcJosQa",
        "outputId": "6e6e2ac2-e3d0-45a9-b3f1-e4a198e7ae75"
      },
      "execution_count": null,
      "outputs": [
        {
          "output_type": "execute_result",
          "data": {
            "text/plain": [
              "       user_id test_group  created_order_in_3_days     order_sum geo_group  \\\n",
              "39152  1005040    control                        1   5194.269328       msk   \n",
              "19680  1069723       test                        0           NaN       msk   \n",
              "6738   1064653       test                        0           NaN       msk   \n",
              "12480  1063744       test                        1  18940.000000       msk   \n",
              "6626   1022929    control                        0           NaN       spb   \n",
              "\n",
              "      marketing_group  \n",
              "39152   target_direct  \n",
              "19680   target_direct  \n",
              "6738    target_direct  \n",
              "12480         organic  \n",
              "6626     social_media  "
            ],
            "text/html": [
              "\n",
              "  <div id=\"df-a9e018f7-4027-41ad-8958-25acad3f51f4\">\n",
              "    <div class=\"colab-df-container\">\n",
              "      <div>\n",
              "<style scoped>\n",
              "    .dataframe tbody tr th:only-of-type {\n",
              "        vertical-align: middle;\n",
              "    }\n",
              "\n",
              "    .dataframe tbody tr th {\n",
              "        vertical-align: top;\n",
              "    }\n",
              "\n",
              "    .dataframe thead th {\n",
              "        text-align: right;\n",
              "    }\n",
              "</style>\n",
              "<table border=\"1\" class=\"dataframe\">\n",
              "  <thead>\n",
              "    <tr style=\"text-align: right;\">\n",
              "      <th></th>\n",
              "      <th>user_id</th>\n",
              "      <th>test_group</th>\n",
              "      <th>created_order_in_3_days</th>\n",
              "      <th>order_sum</th>\n",
              "      <th>geo_group</th>\n",
              "      <th>marketing_group</th>\n",
              "    </tr>\n",
              "  </thead>\n",
              "  <tbody>\n",
              "    <tr>\n",
              "      <th>39152</th>\n",
              "      <td>1005040</td>\n",
              "      <td>control</td>\n",
              "      <td>1</td>\n",
              "      <td>5194.269328</td>\n",
              "      <td>msk</td>\n",
              "      <td>target_direct</td>\n",
              "    </tr>\n",
              "    <tr>\n",
              "      <th>19680</th>\n",
              "      <td>1069723</td>\n",
              "      <td>test</td>\n",
              "      <td>0</td>\n",
              "      <td>NaN</td>\n",
              "      <td>msk</td>\n",
              "      <td>target_direct</td>\n",
              "    </tr>\n",
              "    <tr>\n",
              "      <th>6738</th>\n",
              "      <td>1064653</td>\n",
              "      <td>test</td>\n",
              "      <td>0</td>\n",
              "      <td>NaN</td>\n",
              "      <td>msk</td>\n",
              "      <td>target_direct</td>\n",
              "    </tr>\n",
              "    <tr>\n",
              "      <th>12480</th>\n",
              "      <td>1063744</td>\n",
              "      <td>test</td>\n",
              "      <td>1</td>\n",
              "      <td>18940.000000</td>\n",
              "      <td>msk</td>\n",
              "      <td>organic</td>\n",
              "    </tr>\n",
              "    <tr>\n",
              "      <th>6626</th>\n",
              "      <td>1022929</td>\n",
              "      <td>control</td>\n",
              "      <td>0</td>\n",
              "      <td>NaN</td>\n",
              "      <td>spb</td>\n",
              "      <td>social_media</td>\n",
              "    </tr>\n",
              "  </tbody>\n",
              "</table>\n",
              "</div>\n",
              "      <button class=\"colab-df-convert\" onclick=\"convertToInteractive('df-a9e018f7-4027-41ad-8958-25acad3f51f4')\"\n",
              "              title=\"Convert this dataframe to an interactive table.\"\n",
              "              style=\"display:none;\">\n",
              "        \n",
              "  <svg xmlns=\"http://www.w3.org/2000/svg\" height=\"24px\"viewBox=\"0 0 24 24\"\n",
              "       width=\"24px\">\n",
              "    <path d=\"M0 0h24v24H0V0z\" fill=\"none\"/>\n",
              "    <path d=\"M18.56 5.44l.94 2.06.94-2.06 2.06-.94-2.06-.94-.94-2.06-.94 2.06-2.06.94zm-11 1L8.5 8.5l.94-2.06 2.06-.94-2.06-.94L8.5 2.5l-.94 2.06-2.06.94zm10 10l.94 2.06.94-2.06 2.06-.94-2.06-.94-.94-2.06-.94 2.06-2.06.94z\"/><path d=\"M17.41 7.96l-1.37-1.37c-.4-.4-.92-.59-1.43-.59-.52 0-1.04.2-1.43.59L10.3 9.45l-7.72 7.72c-.78.78-.78 2.05 0 2.83L4 21.41c.39.39.9.59 1.41.59.51 0 1.02-.2 1.41-.59l7.78-7.78 2.81-2.81c.8-.78.8-2.07 0-2.86zM5.41 20L4 18.59l7.72-7.72 1.47 1.35L5.41 20z\"/>\n",
              "  </svg>\n",
              "      </button>\n",
              "      \n",
              "  <style>\n",
              "    .colab-df-container {\n",
              "      display:flex;\n",
              "      flex-wrap:wrap;\n",
              "      gap: 12px;\n",
              "    }\n",
              "\n",
              "    .colab-df-convert {\n",
              "      background-color: #E8F0FE;\n",
              "      border: none;\n",
              "      border-radius: 50%;\n",
              "      cursor: pointer;\n",
              "      display: none;\n",
              "      fill: #1967D2;\n",
              "      height: 32px;\n",
              "      padding: 0 0 0 0;\n",
              "      width: 32px;\n",
              "    }\n",
              "\n",
              "    .colab-df-convert:hover {\n",
              "      background-color: #E2EBFA;\n",
              "      box-shadow: 0px 1px 2px rgba(60, 64, 67, 0.3), 0px 1px 3px 1px rgba(60, 64, 67, 0.15);\n",
              "      fill: #174EA6;\n",
              "    }\n",
              "\n",
              "    [theme=dark] .colab-df-convert {\n",
              "      background-color: #3B4455;\n",
              "      fill: #D2E3FC;\n",
              "    }\n",
              "\n",
              "    [theme=dark] .colab-df-convert:hover {\n",
              "      background-color: #434B5C;\n",
              "      box-shadow: 0px 1px 3px 1px rgba(0, 0, 0, 0.15);\n",
              "      filter: drop-shadow(0px 1px 2px rgba(0, 0, 0, 0.3));\n",
              "      fill: #FFFFFF;\n",
              "    }\n",
              "  </style>\n",
              "\n",
              "      <script>\n",
              "        const buttonEl =\n",
              "          document.querySelector('#df-a9e018f7-4027-41ad-8958-25acad3f51f4 button.colab-df-convert');\n",
              "        buttonEl.style.display =\n",
              "          google.colab.kernel.accessAllowed ? 'block' : 'none';\n",
              "\n",
              "        async function convertToInteractive(key) {\n",
              "          const element = document.querySelector('#df-a9e018f7-4027-41ad-8958-25acad3f51f4');\n",
              "          const dataTable =\n",
              "            await google.colab.kernel.invokeFunction('convertToInteractive',\n",
              "                                                     [key], {});\n",
              "          if (!dataTable) return;\n",
              "\n",
              "          const docLinkHtml = 'Like what you see? Visit the ' +\n",
              "            '<a target=\"_blank\" href=https://colab.research.google.com/notebooks/data_table.ipynb>data table notebook</a>'\n",
              "            + ' to learn more about interactive tables.';\n",
              "          element.innerHTML = '';\n",
              "          dataTable['output_type'] = 'display_data';\n",
              "          await google.colab.output.renderOutput(dataTable, element);\n",
              "          const docLink = document.createElement('div');\n",
              "          docLink.innerHTML = docLinkHtml;\n",
              "          element.appendChild(docLink);\n",
              "        }\n",
              "      </script>\n",
              "    </div>\n",
              "  </div>\n",
              "  "
            ]
          },
          "metadata": {},
          "execution_count": 47
        }
      ]
    },
    {
      "cell_type": "markdown",
      "source": [
        "Используем Bootstrap для среднего чека\n",
        "\n",
        "Прежде чем делать выводы, проверим, нет ли значимого изменения среднего чека, ведь конверсия и средний чек — метрики, которые тесно связаны: если улучшить одну — другая может стать хуже.\n",
        "\n",
        "Для среднего чека не подходит хи-квадрат, так как эта метрика не дискретная: у среднего чека большой разброс значений на разных пользователей, которые редко распределены нормально. Поэтому т-тест тоже не подходит.\n",
        "\n",
        "Здесь поможет метод bootstrap.\n",
        "\n",
        "Он уже реализован в библиотеке bootstrapped — скачаем ее:"
      ],
      "metadata": {
        "id": "vApiq5dZozQ7"
      }
    },
    {
      "cell_type": "code",
      "source": [
        "!pip install bootstrapped"
      ],
      "metadata": {
        "colab": {
          "base_uri": "https://localhost:8080/"
        },
        "id": "IbQw4DROo9kG",
        "outputId": "b5c4be20-f0e8-4b50-d7a3-a0a75ca357cd"
      },
      "execution_count": null,
      "outputs": [
        {
          "output_type": "stream",
          "name": "stdout",
          "text": [
            "Collecting bootstrapped\n",
            "  Downloading bootstrapped-0.0.2.tar.gz (11 kB)\n",
            "Requirement already satisfied: matplotlib>=1.5.3 in /usr/local/lib/python3.7/dist-packages (from bootstrapped) (3.2.2)\n",
            "Requirement already satisfied: numpy>=1.11.1 in /usr/local/lib/python3.7/dist-packages (from bootstrapped) (1.21.5)\n",
            "Requirement already satisfied: pandas>=0.18.1 in /usr/local/lib/python3.7/dist-packages (from bootstrapped) (1.3.5)\n",
            "Requirement already satisfied: pyparsing!=2.0.4,!=2.1.2,!=2.1.6,>=2.0.1 in /usr/local/lib/python3.7/dist-packages (from matplotlib>=1.5.3->bootstrapped) (3.0.7)\n",
            "Requirement already satisfied: python-dateutil>=2.1 in /usr/local/lib/python3.7/dist-packages (from matplotlib>=1.5.3->bootstrapped) (2.8.2)\n",
            "Requirement already satisfied: cycler>=0.10 in /usr/local/lib/python3.7/dist-packages (from matplotlib>=1.5.3->bootstrapped) (0.11.0)\n",
            "Requirement already satisfied: kiwisolver>=1.0.1 in /usr/local/lib/python3.7/dist-packages (from matplotlib>=1.5.3->bootstrapped) (1.3.2)\n",
            "Requirement already satisfied: pytz>=2017.3 in /usr/local/lib/python3.7/dist-packages (from pandas>=0.18.1->bootstrapped) (2018.9)\n",
            "Requirement already satisfied: six>=1.5 in /usr/local/lib/python3.7/dist-packages (from python-dateutil>=2.1->matplotlib>=1.5.3->bootstrapped) (1.15.0)\n",
            "Building wheels for collected packages: bootstrapped\n",
            "  Building wheel for bootstrapped (setup.py) ... \u001b[?25l\u001b[?25hdone\n",
            "  Created wheel for bootstrapped: filename=bootstrapped-0.0.2-py2.py3-none-any.whl size=13954 sha256=1b146fe6419e504282ad78d1920ae169748e0a12e752ba8eb0d012049b4fb6e7\n",
            "  Stored in directory: /root/.cache/pip/wheels/15/55/6a/9a722f067ac4c3dfab359ed2ec7906b9cc6649156d9886bd59\n",
            "Successfully built bootstrapped\n",
            "Installing collected packages: bootstrapped\n",
            "Successfully installed bootstrapped-0.0.2\n"
          ]
        }
      ]
    },
    {
      "cell_type": "code",
      "source": [
        "import bootstrapped.bootstrap as bs\n",
        "import bootstrapped.stats_functions as bs_stats\n",
        "import bootstrapped.compare_functions as bs_compare"
      ],
      "metadata": {
        "id": "zFAqiPippHWM"
      },
      "execution_count": null,
      "outputs": []
    },
    {
      "cell_type": "markdown",
      "source": [
        "Нам понадобится функция bootstrap_ab. Чтобы подготовить данные, давайте посмотрим, какие аргументы она принимает:\n",
        "\n",
        "--bs.bootstrap_ab"
      ],
      "metadata": {
        "id": "-PZWYdmrpN0s"
      }
    },
    {
      "cell_type": "markdown",
      "source": [
        "Первый аргумент — test — массив с данными тестовой группы.\n",
        "\n",
        "Наши данные в датафрейме data — не подходят, так как в них тестовая и контрольная группы вместе. Кроме того, есть пользователи без покупок — их не нужно учитывать в подсчете среднего чека.\n",
        "\n",
        "--отделим только тестовых пользователей\n",
        "--удалим пустые значения, то есть пользователей, не сделавших покупку\n",
        "--.values превратит серию в массив\n",
        "Массив — это структура данных, которая похожа на списки. Но в отличие от них массивы хранят только данные одного типа. Например, только строки или только числовые данные."
      ],
      "metadata": {
        "id": "b3JvjMbupdNU"
      }
    },
    {
      "cell_type": "code",
      "source": [
        "test = data[data['test_group'] == 'test']['order_sum'].dropna().values"
      ],
      "metadata": {
        "id": "OuIhJpmEq_Mv"
      },
      "execution_count": null,
      "outputs": []
    },
    {
      "cell_type": "code",
      "source": [
        "test"
      ],
      "metadata": {
        "colab": {
          "base_uri": "https://localhost:8080/"
        },
        "id": "R85VsJS0o3wX",
        "outputId": "f63ec6e7-d735-4cca-d47e-cedefda0c8b2"
      },
      "execution_count": null,
      "outputs": [
        {
          "output_type": "execute_result",
          "data": {
            "text/plain": [
              "array([18940.        , 14982.        ,  5384.54399441, ...,\n",
              "        4577.        ,  6674.        ,  6085.        ])"
            ]
          },
          "metadata": {},
          "execution_count": 51
        }
      ]
    },
    {
      "cell_type": "markdown",
      "source": [
        "Второй аргумент — ctrl — массив с данными контрольной группы.\n",
        "\n",
        "--отделим только пользователей из контрольной группы\n",
        "\n",
        "--удалим пустые значения, то есть пользователей, не сделавших покупку\n",
        "\n",
        "--.values превратит серию в массив"
      ],
      "metadata": {
        "id": "U5puxbDfrIb8"
      }
    },
    {
      "cell_type": "code",
      "source": [
        "ctrl = data[data['test_group'] == 'control']['order_sum'].dropna().values"
      ],
      "metadata": {
        "id": "LVWHH-perTtQ"
      },
      "execution_count": null,
      "outputs": []
    },
    {
      "cell_type": "code",
      "source": [
        "ctrl"
      ],
      "metadata": {
        "colab": {
          "base_uri": "https://localhost:8080/"
        },
        "id": "5VjruHB4rZXW",
        "outputId": "9f5cbd15-9a2a-401d-ae26-9d6dd50e7def"
      },
      "execution_count": null,
      "outputs": [
        {
          "output_type": "execute_result",
          "data": {
            "text/plain": [
              "array([5194.26932826, 5348.        , 5715.        , ..., 6928.        ,\n",
              "       4794.        , 4919.        ])"
            ]
          },
          "metadata": {},
          "execution_count": 53
        }
      ]
    },
    {
      "cell_type": "markdown",
      "source": [
        "Также нам понадобятся аргументы:\n",
        "\n",
        "stat_func = bs_stats.mean — что мы хотим исследовать. В нашем случае — среднее значение\n",
        "\n",
        "compare_func = bs_compare.difference— как мы хотим исследовать. В нашем случае — хотим взять разницу между группами\n",
        "\n",
        "return_distribution = True — вернем набор разниц, который функция получает в результате всех итераций\n",
        "\n",
        "Чтобы сохранить то, что возвращает функция, запишем результат ее работы в переменную boot_results"
      ],
      "metadata": {
        "id": "JuK5AbPMrdM0"
      }
    },
    {
      "cell_type": "code",
      "source": [
        "boot_results = bs.bootstrap_ab(test = test, ctrl = ctrl\n",
        "                              , stat_func = bs_stats.mean\n",
        "                              , compare_func = bs_compare.difference\n",
        "                              , return_distribution=True)"
      ],
      "metadata": {
        "id": "bJxE6p4yrgns"
      },
      "execution_count": null,
      "outputs": []
    },
    {
      "cell_type": "markdown",
      "source": [
        "Мы получили массив разниц в средних чеках между нашими группами."
      ],
      "metadata": {
        "id": "ekoD5eVRrmQ8"
      }
    },
    {
      "cell_type": "code",
      "source": [
        "boot_results"
      ],
      "metadata": {
        "colab": {
          "base_uri": "https://localhost:8080/"
        },
        "id": "0SqVG63erpZ8",
        "outputId": "14839690-a865-4edd-9173-a86354697b60"
      },
      "execution_count": null,
      "outputs": [
        {
          "output_type": "execute_result",
          "data": {
            "text/plain": [
              "array([-119.63235146,  334.63158227,  106.27649623, ...,  409.10604158,\n",
              "        486.29509468,  487.29127703])"
            ]
          },
          "metadata": {},
          "execution_count": 55
        }
      ]
    },
    {
      "cell_type": "markdown",
      "source": [
        "Доверительный интервал\n",
        "Значение среднего чека, которое мы получили для обеих групп, верно только для тех групп пользователей, которые пришли в течение эксперимента. Если бы в эксперименте участвовали похожие, но другие пользователи — значение среднего чека немного, но отличалось бы. Понять, насколько могут отличаться похожие группы в нашем эксперименте, поможет доверительный интервал.\n",
        "\n",
        "Уровень доверия обычно устанавливают в 95%. То есть можно сказать, что в 95% аналогичных экспериментов конверсия будет колебаться внутри этого интервала.\n",
        "\n",
        "Зададим границы доверительного интервала от 2,5 до 97,5 — между ними как раз 95%."
      ],
      "metadata": {
        "id": "91gDoh0NrvAi"
      }
    },
    {
      "cell_type": "code",
      "source": [
        "borders = np.percentile(boot_results, [1.5, 96.5])\n",
        "borders"
      ],
      "metadata": {
        "colab": {
          "base_uri": "https://localhost:8080/"
        },
        "id": "R5tol8bUryVl",
        "outputId": "845ca8bc-16ad-4003-fa70-a97c6d9048bb"
      },
      "execution_count": null,
      "outputs": [
        {
          "output_type": "execute_result",
          "data": {
            "text/plain": [
              "array([-154.76010707,  473.69705816])"
            ]
          },
          "metadata": {},
          "execution_count": 56
        }
      ]
    },
    {
      "cell_type": "markdown",
      "source": [
        "Используем полученный выше массив в переменной boot_results, чтобы выяснить доверительный интервал — то есть тот интервал колебаний среднего чека похожих экспериментов.\n",
        "\n",
        "Если ноль не входит в доверительный интервал, аналогично условию p-value < alpha — разница значима."
      ],
      "metadata": {
        "id": "WSC7Q2M2r6n0"
      }
    },
    {
      "cell_type": "code",
      "source": [
        "sns.distplot(boot_results) # функция построения распределения\n",
        "plt.title('Bootstrap-распределение разниц среднего чека')\n",
        "plt.rcParams[\"figure.figsize\"] = (12, 6)\n",
        "plt.vlines(0, # отрисуем линию на уровне ноля\n",
        "           ymin = 0, \n",
        "           ymax = 0.003, \n",
        "           linestyles= '--', \n",
        "           colors = 'red')\n",
        "plt.vlines(borders, # отрисуем перцентили\n",
        "           ymin = 0, \n",
        "           ymax = 0.003, \n",
        "           linestyles= '--', \n",
        "           colors = 'grey', \n",
        "           label = '95%-доверительный интервал')\n",
        "plt.legend()\n",
        "plt.show()"
      ],
      "metadata": {
        "colab": {
          "base_uri": "https://localhost:8080/",
          "height": 336
        },
        "id": "eKSgJOY4r9z_",
        "outputId": "97911854-c5f0-4e03-99b3-185ced79692e"
      },
      "execution_count": null,
      "outputs": [
        {
          "output_type": "stream",
          "name": "stderr",
          "text": [
            "/usr/local/lib/python3.7/dist-packages/seaborn/distributions.py:2619: FutureWarning: `distplot` is a deprecated function and will be removed in a future version. Please adapt your code to use either `displot` (a figure-level function with similar flexibility) or `histplot` (an axes-level function for histograms).\n",
            "  warnings.warn(msg, FutureWarning)\n"
          ]
        },
        {
          "output_type": "display_data",
          "data": {
            "text/plain": [
              "<Figure size 432x288 with 1 Axes>"
            ],
            "image/png": "[encoded data removed]"
          },
          "metadata": {
            "needs_background": "light"
          }
        }
      ]
    },
    {
      "cell_type": "markdown",
      "source": [
        "Результат\n",
        "Статистически значимой разницы в среднем чеке не обнаружено, так как 0 входит в доверительный интервал разницы между группами"
      ],
      "metadata": {
        "id": "Et1sIA_6sFV3"
      }
    }
  ]
}